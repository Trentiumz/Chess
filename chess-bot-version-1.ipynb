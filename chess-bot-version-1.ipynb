{
 "cells": [
  {
   "cell_type": "markdown",
   "id": "76d78347",
   "metadata": {
    "papermill": {
     "duration": 0.00642,
     "end_time": "2023-11-25T16:01:13.713696",
     "exception": false,
     "start_time": "2023-11-25T16:01:13.707276",
     "status": "completed"
    },
    "pycharm": {
     "name": "#%% md\n"
    },
    "tags": []
   },
   "source": [
    "# Attempt Numero Uno"
   ]
  },
  {
   "cell_type": "code",
   "execution_count": 1,
   "id": "0ec1862e",
   "metadata": {
    "execution": {
     "iopub.execute_input": "2023-11-25T16:01:13.727024Z",
     "iopub.status.busy": "2023-11-25T16:01:13.726635Z",
     "iopub.status.idle": "2023-11-25T16:01:25.229558Z",
     "shell.execute_reply": "2023-11-25T16:01:25.228648Z"
    },
    "papermill": {
     "duration": 11.512022,
     "end_time": "2023-11-25T16:01:25.231765",
     "exception": false,
     "start_time": "2023-11-25T16:01:13.719743",
     "status": "completed"
    },
    "pycharm": {
     "name": "#%%\n"
    },
    "tags": []
   },
   "outputs": [
    {
     "name": "stderr",
     "output_type": "stream",
     "text": [
      "/opt/conda/lib/python3.10/site-packages/scipy/__init__.py:146: UserWarning: A NumPy version >=1.16.5 and <1.23.0 is required for this version of SciPy (detected version 1.24.3\n",
      "  warnings.warn(f\"A NumPy version >={np_minversion} and <{np_maxversion}\"\n",
      "/tmp/ipykernel_27/13196397.py:11: DeprecationWarning: Importing display from IPython.core.display is deprecated since IPython 7.14, please import from IPython display\n",
      "  from IPython.core.display import display, HTML\n"
     ]
    }
   ],
   "source": [
    "# imports\n",
    "import os\n",
    "import numpy as np\n",
    "import pandas as pd\n",
    "import matplotlib.pyplot as plt\n",
    "\n",
    "import tensorflow as tf\n",
    "import keras\n",
    "from keras import layers\n",
    "\n",
    "from IPython.core.display import display, HTML"
   ]
  },
  {
   "cell_type": "code",
   "execution_count": 2,
   "id": "2693098a",
   "metadata": {
    "collapsed": false,
    "execution": {
     "iopub.execute_input": "2023-11-25T16:01:25.245264Z",
     "iopub.status.busy": "2023-11-25T16:01:25.244681Z",
     "iopub.status.idle": "2023-11-25T16:01:25.249618Z",
     "shell.execute_reply": "2023-11-25T16:01:25.248744Z"
    },
    "jupyter": {
     "outputs_hidden": false
    },
    "papermill": {
     "duration": 0.01358,
     "end_time": "2023-11-25T16:01:25.251494",
     "exception": false,
     "start_time": "2023-11-25T16:01:25.237914",
     "status": "completed"
    },
    "pycharm": {
     "name": "#%%\n"
    },
    "tags": []
   },
   "outputs": [],
   "source": [
    "class Config:\n",
    "    TRAIN_SPLIT = 0.8\n",
    "    BATCH_SIZE = 64\n",
    "    NUM_EPOCHS = 30\n",
    "config = Config()\n",
    "data_root = '/kaggle/input/chess-bot-version-1-ratings'\n",
    "model_path = '/kaggle/working/checkpoint'"
   ]
  },
  {
   "cell_type": "code",
   "execution_count": 3,
   "id": "a0754eea",
   "metadata": {
    "collapsed": false,
    "execution": {
     "iopub.execute_input": "2023-11-25T16:01:25.265111Z",
     "iopub.status.busy": "2023-11-25T16:01:25.264762Z",
     "iopub.status.idle": "2023-11-25T16:01:32.011124Z",
     "shell.execute_reply": "2023-11-25T16:01:32.010093Z"
    },
    "jupyter": {
     "outputs_hidden": false
    },
    "papermill": {
     "duration": 6.756535,
     "end_time": "2023-11-25T16:01:32.014195",
     "exception": false,
     "start_time": "2023-11-25T16:01:25.257660",
     "status": "completed"
    },
    "pycharm": {
     "name": "#%%\n"
    },
    "tags": []
   },
   "outputs": [],
   "source": [
    "boards = []\n",
    "sides = []\n",
    "ratings = []\n",
    "ratings_root = f'{data_root}/v1'\n",
    "\n",
    "for name in os.listdir(ratings_root):\n",
    "    with open(f'{ratings_root}/{name}', 'rt') as txt:\n",
    "        for ind, i in enumerate(txt.readlines()):\n",
    "            nums = i.split()\n",
    "            assert len(nums) == 65\n",
    "            boards.append([int(val) for val in nums[:64]])\n",
    "            sides.append(0 if ind % 2 == 0 else 1)\n",
    "            ratings.append(float(nums[64]))"
   ]
  },
  {
   "cell_type": "code",
   "execution_count": 4,
   "id": "25500ace",
   "metadata": {
    "collapsed": false,
    "execution": {
     "iopub.execute_input": "2023-11-25T16:01:32.029236Z",
     "iopub.status.busy": "2023-11-25T16:01:32.028931Z",
     "iopub.status.idle": "2023-11-25T16:01:33.332715Z",
     "shell.execute_reply": "2023-11-25T16:01:33.331828Z"
    },
    "jupyter": {
     "outputs_hidden": false
    },
    "papermill": {
     "duration": 1.313824,
     "end_time": "2023-11-25T16:01:33.335099",
     "exception": false,
     "start_time": "2023-11-25T16:01:32.021275",
     "status": "completed"
    },
    "pycharm": {
     "name": "#%%\n"
    },
    "tags": []
   },
   "outputs": [],
   "source": [
    "boards_raw = np.asarray(boards).astype('int32')\n",
    "sides_raw = np.asarray(sides).astype('int32')\n",
    "predict_raw = np.asarray(ratings).astype('int32')"
   ]
  },
  {
   "cell_type": "markdown",
   "id": "5d0457f6",
   "metadata": {
    "papermill": {
     "duration": 0.005798,
     "end_time": "2023-11-25T16:01:33.347266",
     "exception": false,
     "start_time": "2023-11-25T16:01:33.341468",
     "status": "completed"
    },
    "pycharm": {
     "name": "#%% md\n"
    },
    "tags": []
   },
   "source": [
    "## Define Model"
   ]
  },
  {
   "cell_type": "code",
   "execution_count": 5,
   "id": "8d4c04cf",
   "metadata": {
    "collapsed": false,
    "execution": {
     "iopub.execute_input": "2023-11-25T16:01:33.360793Z",
     "iopub.status.busy": "2023-11-25T16:01:33.360435Z",
     "iopub.status.idle": "2023-11-25T16:01:36.112384Z",
     "shell.execute_reply": "2023-11-25T16:01:36.111556Z"
    },
    "jupyter": {
     "outputs_hidden": false
    },
    "papermill": {
     "duration": 2.761659,
     "end_time": "2023-11-25T16:01:36.114872",
     "exception": false,
     "start_time": "2023-11-25T16:01:33.353213",
     "status": "completed"
    },
    "pycharm": {
     "name": "#%%\n"
    },
    "tags": []
   },
   "outputs": [],
   "source": [
    "board_input = keras.Input((64,13), name='board')\n",
    "side_input = keras.Input((1,), name='side')\n",
    "flattened_input = layers.Flatten()(board_input)\n",
    "model_input = layers.concatenate((flattened_input, side_input))\n",
    "x = layers.Dense(64, activation='relu')(model_input)\n",
    "x = layers.Dense(32, activation='relu')(x)\n",
    "x = layers.Dense(32, activation='relu')(x)\n",
    "x = layers.Dense(16, activation='relu')(x)\n",
    "x = layers.Dense(16, activation='relu')(x)\n",
    "x = layers.Dense(16, activation='relu')(x)\n",
    "out = layers.Dense(1)(x)"
   ]
  },
  {
   "cell_type": "code",
   "execution_count": 6,
   "id": "ac215c46",
   "metadata": {
    "collapsed": false,
    "execution": {
     "iopub.execute_input": "2023-11-25T16:01:36.130148Z",
     "iopub.status.busy": "2023-11-25T16:01:36.129435Z",
     "iopub.status.idle": "2023-11-25T16:01:36.141068Z",
     "shell.execute_reply": "2023-11-25T16:01:36.140190Z"
    },
    "jupyter": {
     "outputs_hidden": false
    },
    "papermill": {
     "duration": 0.021872,
     "end_time": "2023-11-25T16:01:36.143339",
     "exception": false,
     "start_time": "2023-11-25T16:01:36.121467",
     "status": "completed"
    },
    "pycharm": {
     "name": "#%%\n"
    },
    "tags": []
   },
   "outputs": [],
   "source": [
    "model = keras.Model(inputs=(board_input, side_input), outputs=out, name='chess-test-1')"
   ]
  },
  {
   "cell_type": "code",
   "execution_count": 7,
   "id": "a1ffcc6f",
   "metadata": {
    "collapsed": false,
    "execution": {
     "iopub.execute_input": "2023-11-25T16:01:36.157833Z",
     "iopub.status.busy": "2023-11-25T16:01:36.157504Z",
     "iopub.status.idle": "2023-11-25T16:01:36.192042Z",
     "shell.execute_reply": "2023-11-25T16:01:36.190967Z"
    },
    "jupyter": {
     "outputs_hidden": false
    },
    "papermill": {
     "duration": 0.055019,
     "end_time": "2023-11-25T16:01:36.205036",
     "exception": false,
     "start_time": "2023-11-25T16:01:36.150017",
     "status": "completed"
    },
    "pycharm": {
     "name": "#%%\n"
    },
    "tags": []
   },
   "outputs": [
    {
     "name": "stdout",
     "output_type": "stream",
     "text": [
      "Model: \"chess-test-1\"\n",
      "__________________________________________________________________________________________________\n",
      " Layer (type)                Output Shape                 Param #   Connected to                  \n",
      "==================================================================================================\n",
      " board (InputLayer)          [(None, 64, 13)]             0         []                            \n",
      "                                                                                                  \n",
      " flatten (Flatten)           (None, 832)                  0         ['board[0][0]']               \n",
      "                                                                                                  \n",
      " side (InputLayer)           [(None, 1)]                  0         []                            \n",
      "                                                                                                  \n",
      " concatenate (Concatenate)   (None, 833)                  0         ['flatten[0][0]',             \n",
      "                                                                     'side[0][0]']                \n",
      "                                                                                                  \n",
      " dense (Dense)               (None, 64)                   53376     ['concatenate[0][0]']         \n",
      "                                                                                                  \n",
      " dense_1 (Dense)             (None, 32)                   2080      ['dense[0][0]']               \n",
      "                                                                                                  \n",
      " dense_2 (Dense)             (None, 32)                   1056      ['dense_1[0][0]']             \n",
      "                                                                                                  \n",
      " dense_3 (Dense)             (None, 16)                   528       ['dense_2[0][0]']             \n",
      "                                                                                                  \n",
      " dense_4 (Dense)             (None, 16)                   272       ['dense_3[0][0]']             \n",
      "                                                                                                  \n",
      " dense_5 (Dense)             (None, 16)                   272       ['dense_4[0][0]']             \n",
      "                                                                                                  \n",
      " dense_6 (Dense)             (None, 1)                    17        ['dense_5[0][0]']             \n",
      "                                                                                                  \n",
      "==================================================================================================\n",
      "Total params: 57601 (225.00 KB)\n",
      "Trainable params: 57601 (225.00 KB)\n",
      "Non-trainable params: 0 (0.00 Byte)\n",
      "__________________________________________________________________________________________________\n"
     ]
    }
   ],
   "source": [
    "model.summary()"
   ]
  },
  {
   "cell_type": "code",
   "execution_count": 8,
   "id": "75065724",
   "metadata": {
    "collapsed": false,
    "execution": {
     "iopub.execute_input": "2023-11-25T16:01:36.224427Z",
     "iopub.status.busy": "2023-11-25T16:01:36.224032Z",
     "iopub.status.idle": "2023-11-25T16:01:36.422681Z",
     "shell.execute_reply": "2023-11-25T16:01:36.421647Z"
    },
    "jupyter": {
     "outputs_hidden": false
    },
    "papermill": {
     "duration": 0.210832,
     "end_time": "2023-11-25T16:01:36.424858",
     "exception": false,
     "start_time": "2023-11-25T16:01:36.214026",
     "status": "completed"
    },
    "pycharm": {
     "name": "#%%\n"
    },
    "tags": []
   },
   "outputs": [
    {
     "data": {
      "image/png": "[encoded data removed]",
      "text/plain": [
       "<IPython.core.display.Image object>"
      ]
     },
     "execution_count": 8,
     "metadata": {},
     "output_type": "execute_result"
    }
   ],
   "source": [
    "keras.utils.plot_model(model)"
   ]
  },
  {
   "cell_type": "markdown",
   "id": "97e309a3",
   "metadata": {
    "papermill": {
     "duration": 0.009377,
     "end_time": "2023-11-25T16:01:36.444011",
     "exception": false,
     "start_time": "2023-11-25T16:01:36.434634",
     "status": "completed"
    },
    "pycharm": {
     "name": "#%% md\n"
    },
    "tags": []
   },
   "source": [
    "## Train Model"
   ]
  },
  {
   "cell_type": "code",
   "execution_count": 9,
   "id": "a44ba9ce",
   "metadata": {
    "collapsed": false,
    "execution": {
     "iopub.execute_input": "2023-11-25T16:01:36.464601Z",
     "iopub.status.busy": "2023-11-25T16:01:36.463858Z",
     "iopub.status.idle": "2023-11-25T16:01:36.556204Z",
     "shell.execute_reply": "2023-11-25T16:01:36.555027Z"
    },
    "jupyter": {
     "outputs_hidden": false
    },
    "papermill": {
     "duration": 0.105507,
     "end_time": "2023-11-25T16:01:36.559059",
     "exception": false,
     "start_time": "2023-11-25T16:01:36.453552",
     "status": "completed"
    },
    "pycharm": {
     "name": "#%%\n"
    },
    "tags": []
   },
   "outputs": [],
   "source": [
    "x1_data, x2_data, y_data = boards_raw[abs(predict_raw) < 20].copy(), sides_raw[abs(predict_raw) < 20].copy(), predict_raw[abs(predict_raw) < 20].copy()\n",
    "index = np.asarray(range(len(x2_data)))\n",
    "np.random.shuffle(index)\n",
    "x1_data = x1_data[index]\n",
    "x2_data = x2_data[index]\n",
    "y_data = y_data[index]\n",
    "\n",
    "y_mean = y_data.mean()\n",
    "y_std = y_data.std()\n",
    "y_data = (y_data - y_mean) / y_std\n",
    "\n",
    "x1_data = tf.one_hot(x1_data, depth=13, axis=-1)"
   ]
  },
  {
   "cell_type": "code",
   "execution_count": 10,
   "id": "e7e760e0",
   "metadata": {
    "collapsed": false,
    "execution": {
     "iopub.execute_input": "2023-11-25T16:01:36.580838Z",
     "iopub.status.busy": "2023-11-25T16:01:36.580085Z",
     "iopub.status.idle": "2023-11-25T16:01:36.590625Z",
     "shell.execute_reply": "2023-11-25T16:01:36.589828Z"
    },
    "jupyter": {
     "outputs_hidden": false
    },
    "papermill": {
     "duration": 0.023166,
     "end_time": "2023-11-25T16:01:36.592642",
     "exception": false,
     "start_time": "2023-11-25T16:01:36.569476",
     "status": "completed"
    },
    "pycharm": {
     "name": "#%%\n"
    },
    "tags": []
   },
   "outputs": [],
   "source": [
    "split_val = int(len(x1_data) * config.TRAIN_SPLIT)\n",
    "(train_x1, train_x2, train_y), (test_x1, test_x2, test_y) = (x1_data[:split_val], x2_data[:split_val], y_data[:split_val]), (x1_data[split_val:], x2_data[split_val:], y_data[split_val:])"
   ]
  },
  {
   "cell_type": "code",
   "execution_count": 11,
   "id": "8e95baa8",
   "metadata": {
    "collapsed": false,
    "execution": {
     "iopub.execute_input": "2023-11-25T16:01:36.613274Z",
     "iopub.status.busy": "2023-11-25T16:01:36.612921Z",
     "iopub.status.idle": "2023-11-25T16:03:08.522495Z",
     "shell.execute_reply": "2023-11-25T16:03:08.521517Z"
    },
    "jupyter": {
     "outputs_hidden": false
    },
    "papermill": {
     "duration": 91.922536,
     "end_time": "2023-11-25T16:03:08.524948",
     "exception": false,
     "start_time": "2023-11-25T16:01:36.602412",
     "status": "completed"
    },
    "pycharm": {
     "is_executing": true,
     "name": "#%%\n"
    },
    "tags": []
   },
   "outputs": [
    {
     "name": "stdout",
     "output_type": "stream",
     "text": [
      "Training with rate 0.001\n",
      "Epoch 1/30\n",
      "597/597 [==============================] - 9s 7ms/step - loss: 0.9271 - mean_absolute_error: 0.7797 - val_loss: 0.8568 - val_mean_absolute_error: 0.7372\n",
      "Epoch 2/30\n",
      "597/597 [==============================] - 4s 6ms/step - loss: 0.8042 - mean_absolute_error: 0.7021 - val_loss: 0.7842 - val_mean_absolute_error: 0.6846\n",
      "Epoch 3/30\n",
      "597/597 [==============================] - 4s 7ms/step - loss: 0.7383 - mean_absolute_error: 0.6608 - val_loss: 0.7491 - val_mean_absolute_error: 0.6642\n",
      "Epoch 4/30\n",
      "597/597 [==============================] - 4s 6ms/step - loss: 0.6683 - mean_absolute_error: 0.6221 - val_loss: 0.7116 - val_mean_absolute_error: 0.6312\n",
      "Epoch 5/30\n",
      "597/597 [==============================] - 4s 6ms/step - loss: 0.6078 - mean_absolute_error: 0.5879 - val_loss: 0.6904 - val_mean_absolute_error: 0.6197\n",
      "Epoch 6/30\n",
      "597/597 [==============================] - 4s 6ms/step - loss: 0.5501 - mean_absolute_error: 0.5555 - val_loss: 0.6936 - val_mean_absolute_error: 0.6135\n",
      "Epoch 7/30\n",
      "597/597 [==============================] - 3s 4ms/step - loss: 0.5022 - mean_absolute_error: 0.5301 - val_loss: 0.6900 - val_mean_absolute_error: 0.6221\n",
      "Epoch 8/30\n",
      "597/597 [==============================] - 2s 4ms/step - loss: 0.4693 - mean_absolute_error: 0.5093 - val_loss: 0.7090 - val_mean_absolute_error: 0.6424\n",
      "Epoch 9/30\n",
      "597/597 [==============================] - 4s 6ms/step - loss: 0.4342 - mean_absolute_error: 0.4881 - val_loss: 0.6571 - val_mean_absolute_error: 0.5840\n",
      "Epoch 10/30\n",
      "597/597 [==============================] - 2s 4ms/step - loss: 0.4085 - mean_absolute_error: 0.4722 - val_loss: 0.6630 - val_mean_absolute_error: 0.5891\n",
      "Epoch 11/30\n",
      "597/597 [==============================] - 2s 4ms/step - loss: 0.3841 - mean_absolute_error: 0.4561 - val_loss: 0.6577 - val_mean_absolute_error: 0.6069\n",
      "Epoch 12/30\n",
      "597/597 [==============================] - 2s 4ms/step - loss: 0.3638 - mean_absolute_error: 0.4431 - val_loss: 0.6797 - val_mean_absolute_error: 0.6046\n",
      "Epoch 13/30\n",
      "597/597 [==============================] - 3s 6ms/step - loss: 0.3428 - mean_absolute_error: 0.4285 - val_loss: 0.6383 - val_mean_absolute_error: 0.5661\n",
      "Epoch 14/30\n",
      "597/597 [==============================] - 2s 4ms/step - loss: 0.3268 - mean_absolute_error: 0.4174 - val_loss: 0.6648 - val_mean_absolute_error: 0.5896\n",
      "Epoch 15/30\n",
      "597/597 [==============================] - 2s 4ms/step - loss: 0.3141 - mean_absolute_error: 0.4079 - val_loss: 0.6647 - val_mean_absolute_error: 0.5888\n",
      "Epoch 16/30\n",
      "597/597 [==============================] - 4s 6ms/step - loss: 0.2985 - mean_absolute_error: 0.3973 - val_loss: 0.6524 - val_mean_absolute_error: 0.5602\n",
      "Epoch 17/30\n",
      "597/597 [==============================] - 2s 4ms/step - loss: 0.2834 - mean_absolute_error: 0.3857 - val_loss: 0.6390 - val_mean_absolute_error: 0.5624\n",
      "Epoch 18/30\n",
      "597/597 [==============================] - 4s 6ms/step - loss: 0.2727 - mean_absolute_error: 0.3800 - val_loss: 0.6457 - val_mean_absolute_error: 0.5532\n",
      "Epoch 19/30\n",
      "597/597 [==============================] - 2s 4ms/step - loss: 0.2605 - mean_absolute_error: 0.3696 - val_loss: 0.7185 - val_mean_absolute_error: 0.6025\n",
      "Epoch 20/30\n",
      "597/597 [==============================] - 2s 4ms/step - loss: 0.2536 - mean_absolute_error: 0.3660 - val_loss: 0.6425 - val_mean_absolute_error: 0.5598\n",
      "Epoch 21/30\n",
      "597/597 [==============================] - 2s 4ms/step - loss: 0.2431 - mean_absolute_error: 0.3575 - val_loss: 0.6742 - val_mean_absolute_error: 0.5689\n",
      "Epoch 22/30\n",
      "597/597 [==============================] - 2s 4ms/step - loss: 0.2357 - mean_absolute_error: 0.3514 - val_loss: 0.6794 - val_mean_absolute_error: 0.5734\n",
      "Epoch 23/30\n",
      "597/597 [==============================] - 3s 4ms/step - loss: 0.2277 - mean_absolute_error: 0.3459 - val_loss: 0.6606 - val_mean_absolute_error: 0.5622\n",
      "Epoch 24/30\n",
      "597/597 [==============================] - 2s 4ms/step - loss: 0.2182 - mean_absolute_error: 0.3391 - val_loss: 0.6678 - val_mean_absolute_error: 0.5656\n",
      "Epoch 25/30\n",
      "597/597 [==============================] - 3s 4ms/step - loss: 0.2130 - mean_absolute_error: 0.3357 - val_loss: 0.6541 - val_mean_absolute_error: 0.5635\n",
      "Epoch 26/30\n",
      "597/597 [==============================] - 3s 4ms/step - loss: 0.2062 - mean_absolute_error: 0.3286 - val_loss: 0.6850 - val_mean_absolute_error: 0.5748\n",
      "Epoch 27/30\n",
      "597/597 [==============================] - 2s 4ms/step - loss: 0.1998 - mean_absolute_error: 0.3244 - val_loss: 0.6584 - val_mean_absolute_error: 0.5637\n",
      "Epoch 28/30\n",
      "597/597 [==============================] - 3s 4ms/step - loss: 0.1955 - mean_absolute_error: 0.3187 - val_loss: 0.6737 - val_mean_absolute_error: 0.5655\n",
      "Epoch 29/30\n",
      "597/597 [==============================] - 3s 4ms/step - loss: 0.1894 - mean_absolute_error: 0.3150 - val_loss: 0.6968 - val_mean_absolute_error: 0.5729\n",
      "Epoch 30/30\n",
      "597/597 [==============================] - 3s 4ms/step - loss: 0.1848 - mean_absolute_error: 0.3104 - val_loss: 0.6683 - val_mean_absolute_error: 0.5566\n"
     ]
    }
   ],
   "source": [
    "history = []\n",
    "best_val_callback = keras.callbacks.ModelCheckpoint(\n",
    "    filepath=model_path,\n",
    "    save_weights_only=False,\n",
    "    monitor='val_mean_absolute_error',\n",
    "    mode='min',\n",
    "    save_best_only=True\n",
    ")\n",
    "\n",
    "def run_train_iteration(rate):\n",
    "    print(f\"Training with rate {rate}\")\n",
    "    model.compile(\n",
    "        loss=keras.losses.MeanSquaredError(),\n",
    "        optimizer=keras.optimizers.RMSprop(learning_rate=rate, momentum=0.5),\n",
    "        metrics=[keras.metrics.MeanAbsoluteError()]\n",
    "    )\n",
    "    history.append(model.fit({\n",
    "        'board': train_x1,\n",
    "        'side': train_x2,\n",
    "    }, train_y, batch_size=config.BATCH_SIZE, epochs=config.NUM_EPOCHS, validation_split=0.2, callbacks=[best_val_callback]))\n",
    "\n",
    "run_train_iteration(0.001)"
   ]
  },
  {
   "cell_type": "code",
   "execution_count": 12,
   "id": "004166aa",
   "metadata": {
    "collapsed": false,
    "execution": {
     "iopub.execute_input": "2023-11-25T16:03:08.771990Z",
     "iopub.status.busy": "2023-11-25T16:03:08.771151Z",
     "iopub.status.idle": "2023-11-25T16:03:09.064338Z",
     "shell.execute_reply": "2023-11-25T16:03:09.063384Z"
    },
    "jupyter": {
     "outputs_hidden": false
    },
    "papermill": {
     "duration": 0.411324,
     "end_time": "2023-11-25T16:03:09.066382",
     "exception": false,
     "start_time": "2023-11-25T16:03:08.655058",
     "status": "completed"
    },
    "pycharm": {
     "name": "#%%\n"
    },
    "tags": []
   },
   "outputs": [
    {
     "data": {
      "text/plain": [
       "[<matplotlib.lines.Line2D at 0x7fb967fe6980>]"
      ]
     },
     "execution_count": 12,
     "metadata": {},
     "output_type": "execute_result"
    },
    {
     "data": {
      "image/png": "[encoded data removed]",
      "text/plain": [
       "<Figure size 640x480 with 1 Axes>"
      ]
     },
     "metadata": {},
     "output_type": "display_data"
    }
   ],
   "source": [
    "hist_loss = np.array([hist.history['loss'] for hist in history]).reshape((-1,))\n",
    "hist_vals = np.array([hist.history['val_loss'] for hist in history]).reshape((-1,))\n",
    "plt.plot(range(len(hist_loss)), hist_loss)\n",
    "plt.plot(range(len(hist_vals)), hist_vals)"
   ]
  },
  {
   "cell_type": "code",
   "execution_count": 13,
   "id": "7f66e815",
   "metadata": {
    "collapsed": false,
    "execution": {
     "iopub.execute_input": "2023-11-25T16:03:09.299568Z",
     "iopub.status.busy": "2023-11-25T16:03:09.299177Z",
     "iopub.status.idle": "2023-11-25T16:03:09.305761Z",
     "shell.execute_reply": "2023-11-25T16:03:09.304905Z"
    },
    "jupyter": {
     "outputs_hidden": false
    },
    "papermill": {
     "duration": 0.126276,
     "end_time": "2023-11-25T16:03:09.307758",
     "exception": false,
     "start_time": "2023-11-25T16:03:09.181482",
     "status": "completed"
    },
    "pycharm": {
     "name": "#%%\n"
    },
    "tags": []
   },
   "outputs": [
    {
     "data": {
      "text/plain": [
       "3.0898556706118656"
      ]
     },
     "execution_count": 13,
     "metadata": {},
     "output_type": "execute_result"
    }
   ],
   "source": [
    "min(history[-1].history['mean_absolute_error']) * y_std"
   ]
  },
  {
   "cell_type": "code",
   "execution_count": 14,
   "id": "7d4fc856",
   "metadata": {
    "execution": {
     "iopub.execute_input": "2023-11-25T16:03:09.559427Z",
     "iopub.status.busy": "2023-11-25T16:03:09.558796Z",
     "iopub.status.idle": "2023-11-25T16:03:10.540010Z",
     "shell.execute_reply": "2023-11-25T16:03:10.539049Z"
    },
    "papermill": {
     "duration": 1.118429,
     "end_time": "2023-11-25T16:03:10.542108",
     "exception": false,
     "start_time": "2023-11-25T16:03:09.423679",
     "status": "completed"
    },
    "tags": []
   },
   "outputs": [
    {
     "name": "stdout",
     "output_type": "stream",
     "text": [
      "374/374 [==============================] - 1s 2ms/step - loss: 0.6846 - mean_absolute_error: 0.5591\n"
     ]
    },
    {
     "data": {
      "text/plain": [
       "[0.6845693588256836, 0.559095561504364]"
      ]
     },
     "execution_count": 14,
     "metadata": {},
     "output_type": "execute_result"
    }
   ],
   "source": [
    "model.evaluate({\n",
    "        'board': test_x1,\n",
    "        'side': test_x2,\n",
    "    }, test_y)"
   ]
  }
 ],
 "metadata": {
  "kaggle": {
   "accelerator": "gpu",
   "dataSources": [
    {
     "datasetId": 4049305,
     "sourceId": 7038257,
     "sourceType": "datasetVersion"
    }
   ],
   "dockerImageVersionId": 30588,
   "isGpuEnabled": true,
   "isInternetEnabled": true,
   "language": "python",
   "sourceType": "notebook"
  },
  "kernelspec": {
   "display_name": "Python 3",
   "language": "python",
   "name": "python3"
  },
  "language_info": {
   "codemirror_mode": {
    "name": "ipython",
    "version": 3
   },
   "file_extension": ".py",
   "mimetype": "text/x-python",
   "name": "python",
   "nbconvert_exporter": "python",
   "pygments_lexer": "ipython3",
   "version": "3.10.12"
  },
  "papermill": {
   "default_parameters": {},
   "duration": 123.524339,
   "end_time": "2023-11-25T16:03:13.931574",
   "environment_variables": {},
   "exception": null,
   "input_path": "__notebook__.ipynb",
   "output_path": "__notebook__.ipynb",
   "parameters": {},
   "start_time": "2023-11-25T16:01:10.407235",
   "version": "2.4.0"
  }
 },
 "nbformat": 4,
 "nbformat_minor": 5
}
