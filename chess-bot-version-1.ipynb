{
 "cells": [
  {
   "cell_type": "markdown",
   "id": "72efa13f",
   "metadata": {
    "papermill": {
     "duration": 0.006366,
     "end_time": "2023-11-25T16:18:09.738376",
     "exception": false,
     "start_time": "2023-11-25T16:18:09.732010",
     "status": "completed"
    },
    "pycharm": {
     "name": "#%% md\n"
    },
    "tags": []
   },
   "source": [
    "# Attempt Numero Uno"
   ]
  },
  {
   "cell_type": "code",
   "execution_count": 1,
   "id": "4973c6f5",
   "metadata": {
    "execution": {
     "iopub.execute_input": "2023-11-25T16:18:09.750514Z",
     "iopub.status.busy": "2023-11-25T16:18:09.750211Z",
     "iopub.status.idle": "2023-11-25T16:18:21.802199Z",
     "shell.execute_reply": "2023-11-25T16:18:21.801221Z"
    },
    "papermill": {
     "duration": 12.060588,
     "end_time": "2023-11-25T16:18:21.804431",
     "exception": false,
     "start_time": "2023-11-25T16:18:09.743843",
     "status": "completed"
    },
    "pycharm": {
     "name": "#%%\n"
    },
    "tags": []
   },
   "outputs": [
    {
     "name": "stderr",
     "output_type": "stream",
     "text": [
      "/opt/conda/lib/python3.10/site-packages/scipy/__init__.py:146: UserWarning: A NumPy version >=1.16.5 and <1.23.0 is required for this version of SciPy (detected version 1.24.3\n",
      "  warnings.warn(f\"A NumPy version >={np_minversion} and <{np_maxversion}\"\n",
      "/tmp/ipykernel_25/13196397.py:11: DeprecationWarning: Importing display from IPython.core.display is deprecated since IPython 7.14, please import from IPython display\n",
      "  from IPython.core.display import display, HTML\n"
     ]
    }
   ],
   "source": [
    "# imports\n",
    "import os\n",
    "import numpy as np\n",
    "import pandas as pd\n",
    "import matplotlib.pyplot as plt\n",
    "\n",
    "import tensorflow as tf\n",
    "import keras\n",
    "from keras import layers\n",
    "\n",
    "from IPython.core.display import display, HTML"
   ]
  },
  {
   "cell_type": "code",
   "execution_count": 2,
   "id": "03112af6",
   "metadata": {
    "collapsed": false,
    "execution": {
     "iopub.execute_input": "2023-11-25T16:18:21.817507Z",
     "iopub.status.busy": "2023-11-25T16:18:21.816978Z",
     "iopub.status.idle": "2023-11-25T16:18:21.821841Z",
     "shell.execute_reply": "2023-11-25T16:18:21.820937Z"
    },
    "jupyter": {
     "outputs_hidden": false
    },
    "papermill": {
     "duration": 0.013365,
     "end_time": "2023-11-25T16:18:21.823741",
     "exception": false,
     "start_time": "2023-11-25T16:18:21.810376",
     "status": "completed"
    },
    "pycharm": {
     "name": "#%%\n"
    },
    "tags": []
   },
   "outputs": [],
   "source": [
    "class Config:\n",
    "    TRAIN_SPLIT = 0.8\n",
    "    BATCH_SIZE = 64\n",
    "    NUM_EPOCHS = 30\n",
    "config = Config()\n",
    "data_root = '/kaggle/input/chess-bot-version-1-ratings'\n",
    "model_path = '/kaggle/working/checkpoint'"
   ]
  },
  {
   "cell_type": "code",
   "execution_count": 3,
   "id": "bb5f12c4",
   "metadata": {
    "collapsed": false,
    "execution": {
     "iopub.execute_input": "2023-11-25T16:18:21.835703Z",
     "iopub.status.busy": "2023-11-25T16:18:21.835404Z",
     "iopub.status.idle": "2023-11-25T16:18:29.777420Z",
     "shell.execute_reply": "2023-11-25T16:18:29.776625Z"
    },
    "jupyter": {
     "outputs_hidden": false
    },
    "papermill": {
     "duration": 7.950558,
     "end_time": "2023-11-25T16:18:29.779711",
     "exception": false,
     "start_time": "2023-11-25T16:18:21.829153",
     "status": "completed"
    },
    "pycharm": {
     "name": "#%%\n"
    },
    "tags": []
   },
   "outputs": [],
   "source": [
    "boards = []\n",
    "sides = []\n",
    "ratings = []\n",
    "ratings_root = f'{data_root}/v1'\n",
    "\n",
    "for name in os.listdir(ratings_root):\n",
    "    with open(f'{ratings_root}/{name}', 'rt') as txt:\n",
    "        for ind, i in enumerate(txt.readlines()):\n",
    "            nums = i.split()\n",
    "            assert len(nums) == 65\n",
    "            boards.append([int(val) for val in nums[:64]])\n",
    "            sides.append(0 if ind % 2 == 0 else 1)\n",
    "            ratings.append(float(nums[64]))"
   ]
  },
  {
   "cell_type": "code",
   "execution_count": 4,
   "id": "1a91a3a3",
   "metadata": {
    "collapsed": false,
    "execution": {
     "iopub.execute_input": "2023-11-25T16:18:29.792613Z",
     "iopub.status.busy": "2023-11-25T16:18:29.791986Z",
     "iopub.status.idle": "2023-11-25T16:18:31.065137Z",
     "shell.execute_reply": "2023-11-25T16:18:31.064348Z"
    },
    "jupyter": {
     "outputs_hidden": false
    },
    "papermill": {
     "duration": 1.282005,
     "end_time": "2023-11-25T16:18:31.067455",
     "exception": false,
     "start_time": "2023-11-25T16:18:29.785450",
     "status": "completed"
    },
    "pycharm": {
     "name": "#%%\n"
    },
    "tags": []
   },
   "outputs": [],
   "source": [
    "boards_raw = np.asarray(boards).astype('int32')\n",
    "sides_raw = np.asarray(sides).astype('int32')\n",
    "predict_raw = np.asarray(ratings).astype('int32')"
   ]
  },
  {
   "cell_type": "markdown",
   "id": "242356d1",
   "metadata": {
    "papermill": {
     "duration": 0.005382,
     "end_time": "2023-11-25T16:18:31.078795",
     "exception": false,
     "start_time": "2023-11-25T16:18:31.073413",
     "status": "completed"
    },
    "pycharm": {
     "name": "#%% md\n"
    },
    "tags": []
   },
   "source": [
    "## Define Model"
   ]
  },
  {
   "cell_type": "code",
   "execution_count": 5,
   "id": "b23cb634",
   "metadata": {
    "collapsed": false,
    "execution": {
     "iopub.execute_input": "2023-11-25T16:18:31.091126Z",
     "iopub.status.busy": "2023-11-25T16:18:31.090850Z",
     "iopub.status.idle": "2023-11-25T16:18:34.096412Z",
     "shell.execute_reply": "2023-11-25T16:18:34.095632Z"
    },
    "jupyter": {
     "outputs_hidden": false
    },
    "papermill": {
     "duration": 3.014408,
     "end_time": "2023-11-25T16:18:34.098557",
     "exception": false,
     "start_time": "2023-11-25T16:18:31.084149",
     "status": "completed"
    },
    "pycharm": {
     "name": "#%%\n"
    },
    "tags": []
   },
   "outputs": [],
   "source": [
    "board_input = keras.Input((64,13), name='board')\n",
    "side_input = keras.Input((1,), name='side')\n",
    "flattened_input = layers.Flatten()(board_input)\n",
    "model_input = layers.concatenate((flattened_input, side_input))\n",
    "x = layers.Dense(512, activation='relu')(model_input)\n",
    "x = layers.Dense(256, activation='relu')(x)\n",
    "x = layers.Dense(256, activation='relu')(x)\n",
    "out = layers.Dense(1)(x)"
   ]
  },
  {
   "cell_type": "code",
   "execution_count": 6,
   "id": "fc14d199",
   "metadata": {
    "collapsed": false,
    "execution": {
     "iopub.execute_input": "2023-11-25T16:18:34.111234Z",
     "iopub.status.busy": "2023-11-25T16:18:34.110941Z",
     "iopub.status.idle": "2023-11-25T16:18:34.120238Z",
     "shell.execute_reply": "2023-11-25T16:18:34.119517Z"
    },
    "jupyter": {
     "outputs_hidden": false
    },
    "papermill": {
     "duration": 0.017785,
     "end_time": "2023-11-25T16:18:34.122137",
     "exception": false,
     "start_time": "2023-11-25T16:18:34.104352",
     "status": "completed"
    },
    "pycharm": {
     "name": "#%%\n"
    },
    "tags": []
   },
   "outputs": [],
   "source": [
    "model = keras.Model(inputs=(board_input, side_input), outputs=out, name='chess-test-1')"
   ]
  },
  {
   "cell_type": "code",
   "execution_count": 7,
   "id": "e4e26aa2",
   "metadata": {
    "collapsed": false,
    "execution": {
     "iopub.execute_input": "2023-11-25T16:18:34.134233Z",
     "iopub.status.busy": "2023-11-25T16:18:34.133967Z",
     "iopub.status.idle": "2023-11-25T16:18:34.161271Z",
     "shell.execute_reply": "2023-11-25T16:18:34.160441Z"
    },
    "jupyter": {
     "outputs_hidden": false
    },
    "papermill": {
     "duration": 0.042281,
     "end_time": "2023-11-25T16:18:34.170005",
     "exception": false,
     "start_time": "2023-11-25T16:18:34.127724",
     "status": "completed"
    },
    "pycharm": {
     "name": "#%%\n"
    },
    "tags": []
   },
   "outputs": [
    {
     "name": "stdout",
     "output_type": "stream",
     "text": [
      "Model: \"chess-test-1\"\n",
      "__________________________________________________________________________________________________\n",
      " Layer (type)                Output Shape                 Param #   Connected to                  \n",
      "==================================================================================================\n",
      " board (InputLayer)          [(None, 64, 13)]             0         []                            \n",
      "                                                                                                  \n",
      " flatten (Flatten)           (None, 832)                  0         ['board[0][0]']               \n",
      "                                                                                                  \n",
      " side (InputLayer)           [(None, 1)]                  0         []                            \n",
      "                                                                                                  \n",
      " concatenate (Concatenate)   (None, 833)                  0         ['flatten[0][0]',             \n",
      "                                                                     'side[0][0]']                \n",
      "                                                                                                  \n",
      " dense (Dense)               (None, 512)                  427008    ['concatenate[0][0]']         \n",
      "                                                                                                  \n",
      " dense_1 (Dense)             (None, 256)                  131328    ['dense[0][0]']               \n",
      "                                                                                                  \n",
      " dense_2 (Dense)             (None, 256)                  65792     ['dense_1[0][0]']             \n",
      "                                                                                                  \n",
      " dense_3 (Dense)             (None, 1)                    257       ['dense_2[0][0]']             \n",
      "                                                                                                  \n",
      "==================================================================================================\n",
      "Total params: 624385 (2.38 MB)\n",
      "Trainable params: 624385 (2.38 MB)\n",
      "Non-trainable params: 0 (0.00 Byte)\n",
      "__________________________________________________________________________________________________\n"
     ]
    }
   ],
   "source": [
    "model.summary()"
   ]
  },
  {
   "cell_type": "code",
   "execution_count": 8,
   "id": "1e6f2f60",
   "metadata": {
    "collapsed": false,
    "execution": {
     "iopub.execute_input": "2023-11-25T16:18:34.186503Z",
     "iopub.status.busy": "2023-11-25T16:18:34.186239Z",
     "iopub.status.idle": "2023-11-25T16:18:34.383121Z",
     "shell.execute_reply": "2023-11-25T16:18:34.382113Z"
    },
    "jupyter": {
     "outputs_hidden": false
    },
    "papermill": {
     "duration": 0.207343,
     "end_time": "2023-11-25T16:18:34.385055",
     "exception": false,
     "start_time": "2023-11-25T16:18:34.177712",
     "status": "completed"
    },
    "pycharm": {
     "name": "#%%\n"
    },
    "tags": []
   },
   "outputs": [
    {
     "data": {
      "image/png": "[encoded data removed]",
      "text/plain": [
       "<IPython.core.display.Image object>"
      ]
     },
     "execution_count": 8,
     "metadata": {},
     "output_type": "execute_result"
    }
   ],
   "source": [
    "keras.utils.plot_model(model)"
   ]
  },
  {
   "cell_type": "markdown",
   "id": "74148601",
   "metadata": {
    "papermill": {
     "duration": 0.008064,
     "end_time": "2023-11-25T16:18:34.401491",
     "exception": false,
     "start_time": "2023-11-25T16:18:34.393427",
     "status": "completed"
    },
    "pycharm": {
     "name": "#%% md\n"
    },
    "tags": []
   },
   "source": [
    "## Train Model"
   ]
  },
  {
   "cell_type": "code",
   "execution_count": 9,
   "id": "f2d90edd",
   "metadata": {
    "collapsed": false,
    "execution": {
     "iopub.execute_input": "2023-11-25T16:18:34.419285Z",
     "iopub.status.busy": "2023-11-25T16:18:34.418499Z",
     "iopub.status.idle": "2023-11-25T16:18:34.655035Z",
     "shell.execute_reply": "2023-11-25T16:18:34.654037Z"
    },
    "jupyter": {
     "outputs_hidden": false
    },
    "papermill": {
     "duration": 0.247774,
     "end_time": "2023-11-25T16:18:34.657320",
     "exception": false,
     "start_time": "2023-11-25T16:18:34.409546",
     "status": "completed"
    },
    "pycharm": {
     "name": "#%%\n"
    },
    "tags": []
   },
   "outputs": [],
   "source": [
    "x1_data, x2_data, y_data = boards_raw[abs(predict_raw) < 8000].copy(), sides_raw[abs(predict_raw) < 8000].copy(), predict_raw[abs(predict_raw) < 8000].copy()\n",
    "index = np.asarray(range(len(x2_data)))\n",
    "np.random.shuffle(index)\n",
    "x1_data = x1_data[index]\n",
    "x2_data = x2_data[index]\n",
    "y_data = y_data[index]\n",
    "\n",
    "y_mean = y_data.mean()\n",
    "y_std = y_data.std()\n",
    "y_data = (y_data - y_mean) / y_std\n",
    "\n",
    "x1_data = tf.one_hot(x1_data, depth=13, axis=-1)"
   ]
  },
  {
   "cell_type": "code",
   "execution_count": 10,
   "id": "22a4663c",
   "metadata": {
    "collapsed": false,
    "execution": {
     "iopub.execute_input": "2023-11-25T16:18:34.675335Z",
     "iopub.status.busy": "2023-11-25T16:18:34.675035Z",
     "iopub.status.idle": "2023-11-25T16:18:34.684460Z",
     "shell.execute_reply": "2023-11-25T16:18:34.683630Z"
    },
    "jupyter": {
     "outputs_hidden": false
    },
    "papermill": {
     "duration": 0.02046,
     "end_time": "2023-11-25T16:18:34.686289",
     "exception": false,
     "start_time": "2023-11-25T16:18:34.665829",
     "status": "completed"
    },
    "pycharm": {
     "name": "#%%\n"
    },
    "tags": []
   },
   "outputs": [],
   "source": [
    "split_val = int(len(x1_data) * config.TRAIN_SPLIT)\n",
    "(train_x1, train_x2, train_y), (test_x1, test_x2, test_y) = (x1_data[:split_val], x2_data[:split_val], y_data[:split_val]), (x1_data[split_val:], x2_data[split_val:], y_data[split_val:])"
   ]
  },
  {
   "cell_type": "code",
   "execution_count": 11,
   "id": "de64d823",
   "metadata": {
    "collapsed": false,
    "execution": {
     "iopub.execute_input": "2023-11-25T16:18:34.703708Z",
     "iopub.status.busy": "2023-11-25T16:18:34.703414Z",
     "iopub.status.idle": "2023-11-25T16:21:42.645947Z",
     "shell.execute_reply": "2023-11-25T16:21:42.644939Z"
    },
    "jupyter": {
     "outputs_hidden": false
    },
    "papermill": {
     "duration": 187.95358,
     "end_time": "2023-11-25T16:21:42.648012",
     "exception": false,
     "start_time": "2023-11-25T16:18:34.694432",
     "status": "completed"
    },
    "pycharm": {
     "is_executing": true,
     "name": "#%%\n"
    },
    "tags": []
   },
   "outputs": [
    {
     "name": "stdout",
     "output_type": "stream",
     "text": [
      "Training with rate 0.001\n",
      "Epoch 1/30\n",
      "1962/1962 [==============================] - 11s 4ms/step - loss: 0.2547 - mean_absolute_error: 0.3583 - val_loss: 0.1298 - val_mean_absolute_error: 0.2540\n",
      "Epoch 2/30\n",
      "1962/1962 [==============================] - 7s 3ms/step - loss: 0.1255 - mean_absolute_error: 0.2567 - val_loss: 0.1111 - val_mean_absolute_error: 0.2323\n",
      "Epoch 3/30\n",
      "1962/1962 [==============================] - 6s 3ms/step - loss: 0.1058 - mean_absolute_error: 0.2335 - val_loss: 0.1211 - val_mean_absolute_error: 0.2558\n",
      "Epoch 4/30\n",
      "1962/1962 [==============================] - 7s 3ms/step - loss: 0.0935 - mean_absolute_error: 0.2176 - val_loss: 0.0998 - val_mean_absolute_error: 0.2171\n",
      "Epoch 5/30\n",
      "1962/1962 [==============================] - 6s 3ms/step - loss: 0.0849 - mean_absolute_error: 0.2064 - val_loss: 0.1011 - val_mean_absolute_error: 0.2203\n",
      "Epoch 6/30\n",
      "1962/1962 [==============================] - 7s 3ms/step - loss: 0.0781 - mean_absolute_error: 0.1974 - val_loss: 0.0968 - val_mean_absolute_error: 0.2113\n",
      "Epoch 7/30\n",
      "1962/1962 [==============================] - 6s 3ms/step - loss: 0.0717 - mean_absolute_error: 0.1894 - val_loss: 0.1243 - val_mean_absolute_error: 0.2684\n",
      "Epoch 8/30\n",
      "1962/1962 [==============================] - 6s 3ms/step - loss: 0.0669 - mean_absolute_error: 0.1827 - val_loss: 0.1132 - val_mean_absolute_error: 0.2475\n",
      "Epoch 9/30\n",
      "1962/1962 [==============================] - 6s 3ms/step - loss: 0.0626 - mean_absolute_error: 0.1765 - val_loss: 0.1009 - val_mean_absolute_error: 0.2161\n",
      "Epoch 10/30\n",
      "1962/1962 [==============================] - 6s 3ms/step - loss: 0.0587 - mean_absolute_error: 0.1711 - val_loss: 0.1090 - val_mean_absolute_error: 0.2368\n",
      "Epoch 11/30\n",
      "1962/1962 [==============================] - 7s 3ms/step - loss: 0.0553 - mean_absolute_error: 0.1664 - val_loss: 0.0905 - val_mean_absolute_error: 0.1995\n",
      "Epoch 12/30\n",
      "1962/1962 [==============================] - 7s 3ms/step - loss: 0.0519 - mean_absolute_error: 0.1615 - val_loss: 0.0907 - val_mean_absolute_error: 0.1992\n",
      "Epoch 13/30\n",
      "1962/1962 [==============================] - 6s 3ms/step - loss: 0.0488 - mean_absolute_error: 0.1566 - val_loss: 0.0920 - val_mean_absolute_error: 0.2040\n",
      "Epoch 14/30\n",
      "1962/1962 [==============================] - 6s 3ms/step - loss: 0.0464 - mean_absolute_error: 0.1532 - val_loss: 0.1086 - val_mean_absolute_error: 0.2357\n",
      "Epoch 15/30\n",
      "1962/1962 [==============================] - 6s 3ms/step - loss: 0.0441 - mean_absolute_error: 0.1492 - val_loss: 0.0969 - val_mean_absolute_error: 0.2081\n",
      "Epoch 16/30\n",
      "1962/1962 [==============================] - 6s 3ms/step - loss: 0.0416 - mean_absolute_error: 0.1454 - val_loss: 0.0954 - val_mean_absolute_error: 0.2115\n",
      "Epoch 17/30\n",
      "1962/1962 [==============================] - 6s 3ms/step - loss: 0.0394 - mean_absolute_error: 0.1414 - val_loss: 0.0968 - val_mean_absolute_error: 0.2127\n",
      "Epoch 18/30\n",
      "1962/1962 [==============================] - 6s 3ms/step - loss: 0.0378 - mean_absolute_error: 0.1391 - val_loss: 0.0921 - val_mean_absolute_error: 0.2021\n",
      "Epoch 19/30\n",
      "1962/1962 [==============================] - 7s 3ms/step - loss: 0.0356 - mean_absolute_error: 0.1355 - val_loss: 0.0918 - val_mean_absolute_error: 0.1989\n",
      "Epoch 20/30\n",
      "1962/1962 [==============================] - 6s 3ms/step - loss: 0.0340 - mean_absolute_error: 0.1327 - val_loss: 0.0936 - val_mean_absolute_error: 0.2040\n",
      "Epoch 21/30\n",
      "1962/1962 [==============================] - 6s 3ms/step - loss: 0.0325 - mean_absolute_error: 0.1297 - val_loss: 0.0991 - val_mean_absolute_error: 0.2169\n",
      "Epoch 22/30\n",
      "1962/1962 [==============================] - 6s 3ms/step - loss: 0.0312 - mean_absolute_error: 0.1273 - val_loss: 0.0951 - val_mean_absolute_error: 0.2044\n",
      "Epoch 23/30\n",
      "1962/1962 [==============================] - 6s 3ms/step - loss: 0.0296 - mean_absolute_error: 0.1245 - val_loss: 0.0922 - val_mean_absolute_error: 0.2034\n",
      "Epoch 24/30\n",
      "1962/1962 [==============================] - 7s 3ms/step - loss: 0.0284 - mean_absolute_error: 0.1223 - val_loss: 0.0908 - val_mean_absolute_error: 0.1972\n",
      "Epoch 25/30\n",
      "1962/1962 [==============================] - 6s 3ms/step - loss: 0.0272 - mean_absolute_error: 0.1196 - val_loss: 0.0929 - val_mean_absolute_error: 0.1972\n",
      "Epoch 26/30\n",
      "1962/1962 [==============================] - 6s 3ms/step - loss: 0.0262 - mean_absolute_error: 0.1177 - val_loss: 0.0931 - val_mean_absolute_error: 0.1997\n",
      "Epoch 27/30\n",
      "1962/1962 [==============================] - 6s 3ms/step - loss: 0.0249 - mean_absolute_error: 0.1150 - val_loss: 0.1015 - val_mean_absolute_error: 0.2148\n",
      "Epoch 28/30\n",
      "1962/1962 [==============================] - 6s 3ms/step - loss: 0.0240 - mean_absolute_error: 0.1131 - val_loss: 0.0941 - val_mean_absolute_error: 0.1988\n",
      "Epoch 29/30\n",
      "1962/1962 [==============================] - 6s 3ms/step - loss: 0.0230 - mean_absolute_error: 0.1108 - val_loss: 0.0944 - val_mean_absolute_error: 0.2044\n",
      "Epoch 30/30\n",
      "1962/1962 [==============================] - 6s 3ms/step - loss: 0.0222 - mean_absolute_error: 0.1093 - val_loss: 0.0981 - val_mean_absolute_error: 0.2024\n"
     ]
    }
   ],
   "source": [
    "history = []\n",
    "best_val_callback = keras.callbacks.ModelCheckpoint(\n",
    "    filepath=model_path,\n",
    "    save_weights_only=False,\n",
    "    monitor='val_mean_absolute_error',\n",
    "    mode='min',\n",
    "    save_best_only=True\n",
    ")\n",
    "\n",
    "def run_train_iteration(rate):\n",
    "    print(f\"Training with rate {rate}\")\n",
    "    model.compile(\n",
    "        loss=keras.losses.MeanSquaredError(),\n",
    "        optimizer=keras.optimizers.RMSprop(learning_rate=rate, momentum=0.5),\n",
    "        metrics=[keras.metrics.MeanAbsoluteError()]\n",
    "    )\n",
    "    history.append(model.fit({\n",
    "        'board': train_x1,\n",
    "        'side': train_x2,\n",
    "    }, train_y, batch_size=config.BATCH_SIZE, epochs=config.NUM_EPOCHS, validation_split=0.2, callbacks=[best_val_callback]))\n",
    "\n",
    "run_train_iteration(0.001)"
   ]
  },
  {
   "cell_type": "code",
   "execution_count": 12,
   "id": "490f97cc",
   "metadata": {
    "collapsed": false,
    "execution": {
     "iopub.execute_input": "2023-11-25T16:21:43.136225Z",
     "iopub.status.busy": "2023-11-25T16:21:43.135556Z",
     "iopub.status.idle": "2023-11-25T16:21:43.399996Z",
     "shell.execute_reply": "2023-11-25T16:21:43.399093Z"
    },
    "jupyter": {
     "outputs_hidden": false
    },
    "papermill": {
     "duration": 0.510985,
     "end_time": "2023-11-25T16:21:43.402043",
     "exception": false,
     "start_time": "2023-11-25T16:21:42.891058",
     "status": "completed"
    },
    "pycharm": {
     "name": "#%%\n"
    },
    "tags": []
   },
   "outputs": [
    {
     "data": {
      "text/plain": [
       "[<matplotlib.lines.Line2D at 0x796fa06356f0>]"
      ]
     },
     "execution_count": 12,
     "metadata": {},
     "output_type": "execute_result"
    },
    {
     "data": {
      "image/png": "[encoded data removed]",
      "text/plain": [
       "<Figure size 640x480 with 1 Axes>"
      ]
     },
     "metadata": {},
     "output_type": "display_data"
    }
   ],
   "source": [
    "hist_loss = np.array([hist.history['loss'] for hist in history]).reshape((-1,))\n",
    "hist_vals = np.array([hist.history['val_loss'] for hist in history]).reshape((-1,))\n",
    "plt.plot(range(len(hist_loss)), hist_loss)\n",
    "plt.plot(range(len(hist_vals)), hist_vals)"
   ]
  },
  {
   "cell_type": "code",
   "execution_count": 13,
   "id": "9ac9ff78",
   "metadata": {
    "collapsed": false,
    "execution": {
     "iopub.execute_input": "2023-11-25T16:21:43.905916Z",
     "iopub.status.busy": "2023-11-25T16:21:43.905284Z",
     "iopub.status.idle": "2023-11-25T16:21:43.911640Z",
     "shell.execute_reply": "2023-11-25T16:21:43.910803Z"
    },
    "jupyter": {
     "outputs_hidden": false
    },
    "papermill": {
     "duration": 0.25124,
     "end_time": "2023-11-25T16:21:43.913512",
     "exception": false,
     "start_time": "2023-11-25T16:21:43.662272",
     "status": "completed"
    },
    "pycharm": {
     "name": "#%%\n"
    },
    "tags": []
   },
   "outputs": [
    {
     "data": {
      "text/plain": [
       "7.76854396108615"
      ]
     },
     "execution_count": 13,
     "metadata": {},
     "output_type": "execute_result"
    }
   ],
   "source": [
    "min(history[-1].history['mean_absolute_error']) * y_std"
   ]
  },
  {
   "cell_type": "code",
   "execution_count": 14,
   "id": "3fa9ece3",
   "metadata": {
    "execution": {
     "iopub.execute_input": "2023-11-25T16:21:44.400997Z",
     "iopub.status.busy": "2023-11-25T16:21:44.400096Z",
     "iopub.status.idle": "2023-11-25T16:21:47.219553Z",
     "shell.execute_reply": "2023-11-25T16:21:47.218652Z"
    },
    "papermill": {
     "duration": 3.066111,
     "end_time": "2023-11-25T16:21:47.221532",
     "exception": false,
     "start_time": "2023-11-25T16:21:44.155421",
     "status": "completed"
    },
    "tags": []
   },
   "outputs": [
    {
     "name": "stdout",
     "output_type": "stream",
     "text": [
      "1227/1227 [==============================] - 3s 2ms/step - loss: 0.0976 - mean_absolute_error: 0.2013\n"
     ]
    },
    {
     "data": {
      "text/plain": [
       "[0.0975816622376442, 0.2013138085603714]"
      ]
     },
     "execution_count": 14,
     "metadata": {},
     "output_type": "execute_result"
    }
   ],
   "source": [
    "model.evaluate({\n",
    "        'board': test_x1,\n",
    "        'side': test_x2,\n",
    "    }, test_y)"
   ]
  }
 ],
 "metadata": {
  "kaggle": {
   "accelerator": "gpu",
   "dataSources": [
    {
     "datasetId": 4049305,
     "sourceId": 7038257,
     "sourceType": "datasetVersion"
    }
   ],
   "dockerImageVersionId": 30588,
   "isGpuEnabled": true,
   "isInternetEnabled": true,
   "language": "python",
   "sourceType": "notebook"
  },
  "kernelspec": {
   "display_name": "Python 3",
   "language": "python",
   "name": "python3"
  },
  "language_info": {
   "codemirror_mode": {
    "name": "ipython",
    "version": 3
   },
   "file_extension": ".py",
   "mimetype": "text/x-python",
   "name": "python",
   "nbconvert_exporter": "python",
   "pygments_lexer": "ipython3",
   "version": "3.10.12"
  },
  "papermill": {
   "default_parameters": {},
   "duration": 223.749413,
   "end_time": "2023-11-25T16:21:50.021345",
   "environment_variables": {},
   "exception": null,
   "input_path": "__notebook__.ipynb",
   "output_path": "__notebook__.ipynb",
   "parameters": {},
   "start_time": "2023-11-25T16:18:06.271932",
   "version": "2.4.0"
  }
 },
 "nbformat": 4,
 "nbformat_minor": 5
}
