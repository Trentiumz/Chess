{
 "cells": [
  {
   "cell_type": "markdown",
   "id": "3b64bbf5",
   "metadata": {
    "papermill": {
     "duration": 0.006296,
     "end_time": "2023-11-25T13:03:22.653860",
     "exception": false,
     "start_time": "2023-11-25T13:03:22.647564",
     "status": "completed"
    },
    "pycharm": {
     "name": "#%% md\n"
    },
    "tags": []
   },
   "source": [
    "# Attempt Numero Uno"
   ]
  },
  {
   "cell_type": "code",
   "execution_count": 1,
   "id": "fbc0fce9",
   "metadata": {
    "execution": {
     "iopub.execute_input": "2023-11-25T13:03:22.667224Z",
     "iopub.status.busy": "2023-11-25T13:03:22.666361Z",
     "iopub.status.idle": "2023-11-25T13:03:34.711707Z",
     "shell.execute_reply": "2023-11-25T13:03:34.710781Z"
    },
    "papermill": {
     "duration": 12.054723,
     "end_time": "2023-11-25T13:03:34.714240",
     "exception": false,
     "start_time": "2023-11-25T13:03:22.659517",
     "status": "completed"
    },
    "pycharm": {
     "name": "#%%\n"
    },
    "tags": []
   },
   "outputs": [
    {
     "name": "stderr",
     "output_type": "stream",
     "text": [
      "/opt/conda/lib/python3.10/site-packages/scipy/__init__.py:146: UserWarning: A NumPy version >=1.16.5 and <1.23.0 is required for this version of SciPy (detected version 1.24.3\n",
      "  warnings.warn(f\"A NumPy version >={np_minversion} and <{np_maxversion}\"\n",
      "/tmp/ipykernel_27/13196397.py:11: DeprecationWarning: Importing display from IPython.core.display is deprecated since IPython 7.14, please import from IPython display\n",
      "  from IPython.core.display import display, HTML\n"
     ]
    }
   ],
   "source": [
    "# imports\n",
    "import os\n",
    "import numpy as np\n",
    "import pandas as pd\n",
    "import matplotlib.pyplot as plt\n",
    "\n",
    "import tensorflow as tf\n",
    "import keras\n",
    "from keras import layers\n",
    "\n",
    "from IPython.core.display import display, HTML"
   ]
  },
  {
   "cell_type": "code",
   "execution_count": 2,
   "id": "380476b0",
   "metadata": {
    "collapsed": false,
    "execution": {
     "iopub.execute_input": "2023-11-25T13:03:34.727784Z",
     "iopub.status.busy": "2023-11-25T13:03:34.726895Z",
     "iopub.status.idle": "2023-11-25T13:03:34.731548Z",
     "shell.execute_reply": "2023-11-25T13:03:34.730710Z"
    },
    "jupyter": {
     "outputs_hidden": false
    },
    "papermill": {
     "duration": 0.013153,
     "end_time": "2023-11-25T13:03:34.733433",
     "exception": false,
     "start_time": "2023-11-25T13:03:34.720280",
     "status": "completed"
    },
    "pycharm": {
     "name": "#%%\n"
    },
    "tags": []
   },
   "outputs": [],
   "source": [
    "class Config:\n",
    "    TRAIN_SPLIT = 0.8\n",
    "    BATCH_SIZE = 128\n",
    "    NUM_EPOCHS = 10\n",
    "config = Config()"
   ]
  },
  {
   "cell_type": "code",
   "execution_count": 3,
   "id": "f4f97c45",
   "metadata": {
    "collapsed": false,
    "execution": {
     "iopub.execute_input": "2023-11-25T13:03:34.745774Z",
     "iopub.status.busy": "2023-11-25T13:03:34.745492Z",
     "iopub.status.idle": "2023-11-25T13:03:40.473442Z",
     "shell.execute_reply": "2023-11-25T13:03:40.472504Z"
    },
    "jupyter": {
     "outputs_hidden": false
    },
    "papermill": {
     "duration": 5.736664,
     "end_time": "2023-11-25T13:03:40.475718",
     "exception": false,
     "start_time": "2023-11-25T13:03:34.739054",
     "status": "completed"
    },
    "pycharm": {
     "name": "#%%\n"
    },
    "tags": []
   },
   "outputs": [],
   "source": [
    "boards = []\n",
    "sides = []\n",
    "ratings = []\n",
    "ratings_root = '/kaggle/input/chess-bot-version-1-ratings/v1'\n",
    "\n",
    "for name in os.listdir(ratings_root):\n",
    "    with open(f'{ratings_root}/{name}', 'rt') as txt:\n",
    "        for ind, i in enumerate(txt.readlines()):\n",
    "            nums = i.split()\n",
    "            assert len(nums) == 65\n",
    "            boards.append([int(val) for val in nums[:64]])\n",
    "            sides.append(0 if ind % 2 == 0 else 1)\n",
    "            ratings.append(float(nums[64]))"
   ]
  },
  {
   "cell_type": "code",
   "execution_count": 4,
   "id": "59653e05",
   "metadata": {
    "collapsed": false,
    "execution": {
     "iopub.execute_input": "2023-11-25T13:03:40.489415Z",
     "iopub.status.busy": "2023-11-25T13:03:40.488888Z",
     "iopub.status.idle": "2023-11-25T13:03:41.775076Z",
     "shell.execute_reply": "2023-11-25T13:03:41.774247Z"
    },
    "jupyter": {
     "outputs_hidden": false
    },
    "papermill": {
     "duration": 1.295477,
     "end_time": "2023-11-25T13:03:41.777396",
     "exception": false,
     "start_time": "2023-11-25T13:03:40.481919",
     "status": "completed"
    },
    "pycharm": {
     "name": "#%%\n"
    },
    "tags": []
   },
   "outputs": [],
   "source": [
    "boards_raw = np.asarray(boards).astype('int32')\n",
    "sides_raw = np.asarray(sides).astype('int32')\n",
    "predict_raw = np.asarray(ratings).astype('int32')"
   ]
  },
  {
   "cell_type": "markdown",
   "id": "a78d995e",
   "metadata": {
    "papermill": {
     "duration": 0.005379,
     "end_time": "2023-11-25T13:03:41.788793",
     "exception": false,
     "start_time": "2023-11-25T13:03:41.783414",
     "status": "completed"
    },
    "pycharm": {
     "name": "#%% md\n"
    },
    "tags": []
   },
   "source": [
    "## Define Model"
   ]
  },
  {
   "cell_type": "code",
   "execution_count": 5,
   "id": "5d50f787",
   "metadata": {
    "collapsed": false,
    "execution": {
     "iopub.execute_input": "2023-11-25T13:03:41.801148Z",
     "iopub.status.busy": "2023-11-25T13:03:41.800848Z",
     "iopub.status.idle": "2023-11-25T13:03:44.645430Z",
     "shell.execute_reply": "2023-11-25T13:03:44.644673Z"
    },
    "jupyter": {
     "outputs_hidden": false
    },
    "papermill": {
     "duration": 2.853417,
     "end_time": "2023-11-25T13:03:44.647697",
     "exception": false,
     "start_time": "2023-11-25T13:03:41.794280",
     "status": "completed"
    },
    "pycharm": {
     "name": "#%%\n"
    },
    "tags": []
   },
   "outputs": [],
   "source": [
    "board_input = keras.Input((64,13), name='board')\n",
    "side_input = keras.Input((1,), name='side')\n",
    "flattened_input = layers.Flatten()(board_input)\n",
    "model_input = layers.concatenate((flattened_input, side_input))\n",
    "x = layers.Dense(512)(model_input)\n",
    "x = layers.Dense(256)(x)\n",
    "x = layers.Dense(256)(x)\n",
    "x = layers.Dense(256)(x)\n",
    "out = layers.Dense(1)(x)"
   ]
  },
  {
   "cell_type": "code",
   "execution_count": 6,
   "id": "018cfdda",
   "metadata": {
    "collapsed": false,
    "execution": {
     "iopub.execute_input": "2023-11-25T13:03:44.660677Z",
     "iopub.status.busy": "2023-11-25T13:03:44.660360Z",
     "iopub.status.idle": "2023-11-25T13:03:44.671008Z",
     "shell.execute_reply": "2023-11-25T13:03:44.670294Z"
    },
    "jupyter": {
     "outputs_hidden": false
    },
    "papermill": {
     "duration": 0.019169,
     "end_time": "2023-11-25T13:03:44.672806",
     "exception": false,
     "start_time": "2023-11-25T13:03:44.653637",
     "status": "completed"
    },
    "pycharm": {
     "name": "#%%\n"
    },
    "tags": []
   },
   "outputs": [],
   "source": [
    "model = keras.Model(inputs=(board_input, side_input), outputs=out, name='chess-test-1')"
   ]
  },
  {
   "cell_type": "code",
   "execution_count": 7,
   "id": "e792361d",
   "metadata": {
    "collapsed": false,
    "execution": {
     "iopub.execute_input": "2023-11-25T13:03:44.685440Z",
     "iopub.status.busy": "2023-11-25T13:03:44.685174Z",
     "iopub.status.idle": "2023-11-25T13:03:44.714088Z",
     "shell.execute_reply": "2023-11-25T13:03:44.713211Z"
    },
    "jupyter": {
     "outputs_hidden": false
    },
    "papermill": {
     "duration": 0.042917,
     "end_time": "2023-11-25T13:03:44.721662",
     "exception": false,
     "start_time": "2023-11-25T13:03:44.678745",
     "status": "completed"
    },
    "pycharm": {
     "name": "#%%\n"
    },
    "tags": []
   },
   "outputs": [
    {
     "name": "stdout",
     "output_type": "stream",
     "text": [
      "Model: \"chess-test-1\"\n",
      "__________________________________________________________________________________________________\n",
      " Layer (type)                Output Shape                 Param #   Connected to                  \n",
      "==================================================================================================\n",
      " board (InputLayer)          [(None, 64, 13)]             0         []                            \n",
      "                                                                                                  \n",
      " flatten (Flatten)           (None, 832)                  0         ['board[0][0]']               \n",
      "                                                                                                  \n",
      " side (InputLayer)           [(None, 1)]                  0         []                            \n",
      "                                                                                                  \n",
      " concatenate (Concatenate)   (None, 833)                  0         ['flatten[0][0]',             \n",
      "                                                                     'side[0][0]']                \n",
      "                                                                                                  \n",
      " dense (Dense)               (None, 512)                  427008    ['concatenate[0][0]']         \n",
      "                                                                                                  \n",
      " dense_1 (Dense)             (None, 256)                  131328    ['dense[0][0]']               \n",
      "                                                                                                  \n",
      " dense_2 (Dense)             (None, 256)                  65792     ['dense_1[0][0]']             \n",
      "                                                                                                  \n",
      " dense_3 (Dense)             (None, 256)                  65792     ['dense_2[0][0]']             \n",
      "                                                                                                  \n",
      " dense_4 (Dense)             (None, 1)                    257       ['dense_3[0][0]']             \n",
      "                                                                                                  \n",
      "==================================================================================================\n",
      "Total params: 690177 (2.63 MB)\n",
      "Trainable params: 690177 (2.63 MB)\n",
      "Non-trainable params: 0 (0.00 Byte)\n",
      "__________________________________________________________________________________________________\n"
     ]
    }
   ],
   "source": [
    "model.summary()"
   ]
  },
  {
   "cell_type": "code",
   "execution_count": 8,
   "id": "239588ba",
   "metadata": {
    "collapsed": false,
    "execution": {
     "iopub.execute_input": "2023-11-25T13:03:44.738487Z",
     "iopub.status.busy": "2023-11-25T13:03:44.738199Z",
     "iopub.status.idle": "2023-11-25T13:03:44.930480Z",
     "shell.execute_reply": "2023-11-25T13:03:44.929593Z"
    },
    "jupyter": {
     "outputs_hidden": false
    },
    "papermill": {
     "duration": 0.203211,
     "end_time": "2023-11-25T13:03:44.932672",
     "exception": false,
     "start_time": "2023-11-25T13:03:44.729461",
     "status": "completed"
    },
    "pycharm": {
     "name": "#%%\n"
    },
    "tags": []
   },
   "outputs": [
    {
     "data": {
      "image/png": "[encoded data removed]",
      "text/plain": [
       "<IPython.core.display.Image object>"
      ]
     },
     "execution_count": 8,
     "metadata": {},
     "output_type": "execute_result"
    }
   ],
   "source": [
    "keras.utils.plot_model(model)"
   ]
  },
  {
   "cell_type": "markdown",
   "id": "ce831941",
   "metadata": {
    "papermill": {
     "duration": 0.008068,
     "end_time": "2023-11-25T13:03:44.949165",
     "exception": false,
     "start_time": "2023-11-25T13:03:44.941097",
     "status": "completed"
    },
    "pycharm": {
     "name": "#%% md\n"
    },
    "tags": []
   },
   "source": [
    "## Train Model"
   ]
  },
  {
   "cell_type": "code",
   "execution_count": 9,
   "id": "e7c3ec4d",
   "metadata": {
    "collapsed": false,
    "execution": {
     "iopub.execute_input": "2023-11-25T13:03:44.966795Z",
     "iopub.status.busy": "2023-11-25T13:03:44.966477Z",
     "iopub.status.idle": "2023-11-25T13:03:45.206196Z",
     "shell.execute_reply": "2023-11-25T13:03:45.205373Z"
    },
    "jupyter": {
     "outputs_hidden": false
    },
    "papermill": {
     "duration": 0.250975,
     "end_time": "2023-11-25T13:03:45.208462",
     "exception": false,
     "start_time": "2023-11-25T13:03:44.957487",
     "status": "completed"
    },
    "pycharm": {
     "name": "#%%\n"
    },
    "tags": []
   },
   "outputs": [],
   "source": [
    "x1_data, x2_data, y_data = boards_raw[abs(predict_raw) < 8000].copy(), sides_raw[abs(predict_raw) < 8000].copy(), predict_raw[abs(predict_raw) < 8000].copy()\n",
    "index = np.asarray(range(len(x2_data)))\n",
    "np.random.shuffle(index)\n",
    "x1_data = x1_data[index]\n",
    "x2_data = x2_data[index]\n",
    "y_data = y_data[index]\n",
    "\n",
    "y_mean = y_data.mean()\n",
    "y_std = y_data.std()\n",
    "y_data = (y_data - y_mean) / y_std\n",
    "\n",
    "x1_data = tf.one_hot(x1_data, depth=13, axis=-1)"
   ]
  },
  {
   "cell_type": "code",
   "execution_count": 10,
   "id": "e130fba3",
   "metadata": {
    "collapsed": false,
    "execution": {
     "iopub.execute_input": "2023-11-25T13:03:45.226818Z",
     "iopub.status.busy": "2023-11-25T13:03:45.226496Z",
     "iopub.status.idle": "2023-11-25T13:03:45.236329Z",
     "shell.execute_reply": "2023-11-25T13:03:45.235633Z"
    },
    "jupyter": {
     "outputs_hidden": false
    },
    "papermill": {
     "duration": 0.02112,
     "end_time": "2023-11-25T13:03:45.238306",
     "exception": false,
     "start_time": "2023-11-25T13:03:45.217186",
     "status": "completed"
    },
    "pycharm": {
     "name": "#%%\n"
    },
    "tags": []
   },
   "outputs": [],
   "source": [
    "split_val = int(len(x1_data) * config.TRAIN_SPLIT)\n",
    "(train_x1, train_x2, train_y), (test_x1, test_x2, test_y) = (x1_data[:split_val], x2_data[:split_val], y_data[:split_val]), (x1_data[split_val:], x2_data[split_val:], y_data[split_val:])"
   ]
  },
  {
   "cell_type": "code",
   "execution_count": 11,
   "id": "56522ae3",
   "metadata": {
    "collapsed": false,
    "execution": {
     "iopub.execute_input": "2023-11-25T13:03:45.256589Z",
     "iopub.status.busy": "2023-11-25T13:03:45.256296Z",
     "iopub.status.idle": "2023-11-25T13:07:05.298779Z",
     "shell.execute_reply": "2023-11-25T13:07:05.297643Z"
    },
    "jupyter": {
     "outputs_hidden": false
    },
    "papermill": {
     "duration": 200.05443,
     "end_time": "2023-11-25T13:07:05.301359",
     "exception": false,
     "start_time": "2023-11-25T13:03:45.246929",
     "status": "completed"
    },
    "pycharm": {
     "is_executing": true,
     "name": "#%%\n"
    },
    "tags": []
   },
   "outputs": [
    {
     "name": "stdout",
     "output_type": "stream",
     "text": [
      "Training with rate 0.001\n",
      "Epoch 1/10\n",
      "981/981 [==============================] - 8s 5ms/step - loss: 0.5808 - mean_absolute_error: 0.5808 - val_loss: 0.4045 - val_mean_absolute_error: 0.4045\n",
      "Epoch 2/10\n",
      "981/981 [==============================] - 4s 4ms/step - loss: 0.3287 - mean_absolute_error: 0.3287 - val_loss: 0.2955 - val_mean_absolute_error: 0.2955\n",
      "Epoch 3/10\n",
      "981/981 [==============================] - 4s 4ms/step - loss: 0.2922 - mean_absolute_error: 0.2922 - val_loss: 0.2464 - val_mean_absolute_error: 0.2464\n",
      "Epoch 4/10\n",
      "981/981 [==============================] - 3s 3ms/step - loss: 0.2753 - mean_absolute_error: 0.2753 - val_loss: 0.3077 - val_mean_absolute_error: 0.3077\n",
      "Epoch 5/10\n",
      "981/981 [==============================] - 3s 3ms/step - loss: 0.2665 - mean_absolute_error: 0.2665 - val_loss: 0.2726 - val_mean_absolute_error: 0.2726\n",
      "Epoch 6/10\n",
      "981/981 [==============================] - 3s 3ms/step - loss: 0.2598 - mean_absolute_error: 0.2598 - val_loss: 0.2565 - val_mean_absolute_error: 0.2565\n",
      "Epoch 7/10\n",
      "981/981 [==============================] - 3s 3ms/step - loss: 0.2551 - mean_absolute_error: 0.2551 - val_loss: 0.3183 - val_mean_absolute_error: 0.3183\n",
      "Epoch 8/10\n",
      "981/981 [==============================] - 4s 4ms/step - loss: 0.2522 - mean_absolute_error: 0.2522 - val_loss: 0.2372 - val_mean_absolute_error: 0.2372\n",
      "Epoch 9/10\n",
      "981/981 [==============================] - 3s 3ms/step - loss: 0.2490 - mean_absolute_error: 0.2490 - val_loss: 0.2458 - val_mean_absolute_error: 0.2458\n",
      "Epoch 10/10\n",
      "981/981 [==============================] - 4s 4ms/step - loss: 0.2470 - mean_absolute_error: 0.2470 - val_loss: 0.2352 - val_mean_absolute_error: 0.2352\n",
      "Training with rate 0.0001\n",
      "Epoch 1/10\n",
      "981/981 [==============================] - 6s 4ms/step - loss: 0.2172 - mean_absolute_error: 0.2172 - val_loss: 0.2218 - val_mean_absolute_error: 0.2218\n",
      "Epoch 2/10\n",
      "981/981 [==============================] - 4s 4ms/step - loss: 0.2155 - mean_absolute_error: 0.2155 - val_loss: 0.2212 - val_mean_absolute_error: 0.2212\n",
      "Epoch 3/10\n",
      "981/981 [==============================] - 4s 4ms/step - loss: 0.2152 - mean_absolute_error: 0.2152 - val_loss: 0.2194 - val_mean_absolute_error: 0.2194\n",
      "Epoch 4/10\n",
      "981/981 [==============================] - 3s 3ms/step - loss: 0.2151 - mean_absolute_error: 0.2151 - val_loss: 0.2195 - val_mean_absolute_error: 0.2195\n",
      "Epoch 5/10\n",
      "981/981 [==============================] - 3s 3ms/step - loss: 0.2151 - mean_absolute_error: 0.2151 - val_loss: 0.2200 - val_mean_absolute_error: 0.2200\n",
      "Epoch 6/10\n",
      "981/981 [==============================] - 3s 3ms/step - loss: 0.2150 - mean_absolute_error: 0.2150 - val_loss: 0.2201 - val_mean_absolute_error: 0.2201\n",
      "Epoch 7/10\n",
      "981/981 [==============================] - 4s 4ms/step - loss: 0.2150 - mean_absolute_error: 0.2150 - val_loss: 0.2194 - val_mean_absolute_error: 0.2194\n",
      "Epoch 8/10\n",
      "981/981 [==============================] - 3s 3ms/step - loss: 0.2150 - mean_absolute_error: 0.2150 - val_loss: 0.2200 - val_mean_absolute_error: 0.2200\n",
      "Epoch 9/10\n",
      "981/981 [==============================] - 3s 3ms/step - loss: 0.2150 - mean_absolute_error: 0.2150 - val_loss: 0.2198 - val_mean_absolute_error: 0.2198\n",
      "Epoch 10/10\n",
      "981/981 [==============================] - 4s 4ms/step - loss: 0.2150 - mean_absolute_error: 0.2150 - val_loss: 0.2194 - val_mean_absolute_error: 0.2194\n",
      "Training with rate 1e-05\n",
      "Epoch 1/10\n",
      "981/981 [==============================] - 5s 4ms/step - loss: 0.2138 - mean_absolute_error: 0.2138 - val_loss: 0.2191 - val_mean_absolute_error: 0.2191\n",
      "Epoch 2/10\n",
      "981/981 [==============================] - 4s 4ms/step - loss: 0.2137 - mean_absolute_error: 0.2137 - val_loss: 0.2191 - val_mean_absolute_error: 0.2191\n",
      "Epoch 3/10\n",
      "981/981 [==============================] - 3s 3ms/step - loss: 0.2136 - mean_absolute_error: 0.2136 - val_loss: 0.2191 - val_mean_absolute_error: 0.2191\n",
      "Epoch 4/10\n",
      "981/981 [==============================] - 4s 4ms/step - loss: 0.2136 - mean_absolute_error: 0.2136 - val_loss: 0.2190 - val_mean_absolute_error: 0.2190\n",
      "Epoch 5/10\n",
      "981/981 [==============================] - 3s 3ms/step - loss: 0.2136 - mean_absolute_error: 0.2136 - val_loss: 0.2191 - val_mean_absolute_error: 0.2191\n",
      "Epoch 6/10\n",
      "981/981 [==============================] - 4s 4ms/step - loss: 0.2136 - mean_absolute_error: 0.2136 - val_loss: 0.2190 - val_mean_absolute_error: 0.2190\n",
      "Epoch 7/10\n",
      "981/981 [==============================] - 3s 3ms/step - loss: 0.2136 - mean_absolute_error: 0.2136 - val_loss: 0.2191 - val_mean_absolute_error: 0.2191\n",
      "Epoch 8/10\n",
      "981/981 [==============================] - 3s 3ms/step - loss: 0.2136 - mean_absolute_error: 0.2136 - val_loss: 0.2190 - val_mean_absolute_error: 0.2190\n",
      "Epoch 9/10\n",
      "981/981 [==============================] - 4s 4ms/step - loss: 0.2136 - mean_absolute_error: 0.2136 - val_loss: 0.2190 - val_mean_absolute_error: 0.2190\n",
      "Epoch 10/10\n",
      "981/981 [==============================] - 4s 4ms/step - loss: 0.2136 - mean_absolute_error: 0.2136 - val_loss: 0.2190 - val_mean_absolute_error: 0.2190\n",
      "Training with rate 1e-06\n",
      "Epoch 1/10\n",
      "981/981 [==============================] - 5s 4ms/step - loss: 0.2135 - mean_absolute_error: 0.2135 - val_loss: 0.2190 - val_mean_absolute_error: 0.2190\n",
      "Epoch 2/10\n",
      "981/981 [==============================] - 4s 4ms/step - loss: 0.2134 - mean_absolute_error: 0.2134 - val_loss: 0.2190 - val_mean_absolute_error: 0.2190\n",
      "Epoch 3/10\n",
      "981/981 [==============================] - 4s 4ms/step - loss: 0.2134 - mean_absolute_error: 0.2134 - val_loss: 0.2190 - val_mean_absolute_error: 0.2190\n",
      "Epoch 4/10\n",
      "981/981 [==============================] - 4s 4ms/step - loss: 0.2134 - mean_absolute_error: 0.2134 - val_loss: 0.2189 - val_mean_absolute_error: 0.2189\n",
      "Epoch 5/10\n",
      "981/981 [==============================] - 3s 3ms/step - loss: 0.2134 - mean_absolute_error: 0.2134 - val_loss: 0.2190 - val_mean_absolute_error: 0.2190\n",
      "Epoch 6/10\n",
      "981/981 [==============================] - 4s 4ms/step - loss: 0.2134 - mean_absolute_error: 0.2134 - val_loss: 0.2189 - val_mean_absolute_error: 0.2189\n",
      "Epoch 7/10\n",
      "981/981 [==============================] - 3s 3ms/step - loss: 0.2134 - mean_absolute_error: 0.2134 - val_loss: 0.2190 - val_mean_absolute_error: 0.2190\n",
      "Epoch 8/10\n",
      "981/981 [==============================] - 4s 4ms/step - loss: 0.2134 - mean_absolute_error: 0.2134 - val_loss: 0.2189 - val_mean_absolute_error: 0.2189\n",
      "Epoch 9/10\n",
      "981/981 [==============================] - 3s 3ms/step - loss: 0.2134 - mean_absolute_error: 0.2134 - val_loss: 0.2189 - val_mean_absolute_error: 0.2189\n",
      "Epoch 10/10\n",
      "981/981 [==============================] - 3s 3ms/step - loss: 0.2134 - mean_absolute_error: 0.2134 - val_loss: 0.2189 - val_mean_absolute_error: 0.2189\n",
      "Training with rate 1e-07\n",
      "Epoch 1/10\n",
      "981/981 [==============================] - 5s 4ms/step - loss: 0.2134 - mean_absolute_error: 0.2134 - val_loss: 0.2189 - val_mean_absolute_error: 0.2189\n",
      "Epoch 2/10\n",
      "981/981 [==============================] - 4s 4ms/step - loss: 0.2134 - mean_absolute_error: 0.2134 - val_loss: 0.2189 - val_mean_absolute_error: 0.2189\n",
      "Epoch 3/10\n",
      "981/981 [==============================] - 4s 4ms/step - loss: 0.2134 - mean_absolute_error: 0.2134 - val_loss: 0.2189 - val_mean_absolute_error: 0.2189\n",
      "Epoch 4/10\n",
      "981/981 [==============================] - 4s 4ms/step - loss: 0.2134 - mean_absolute_error: 0.2134 - val_loss: 0.2189 - val_mean_absolute_error: 0.2189\n",
      "Epoch 5/10\n",
      "981/981 [==============================] - 3s 3ms/step - loss: 0.2134 - mean_absolute_error: 0.2134 - val_loss: 0.2189 - val_mean_absolute_error: 0.2189\n",
      "Epoch 6/10\n",
      "981/981 [==============================] - 3s 3ms/step - loss: 0.2134 - mean_absolute_error: 0.2134 - val_loss: 0.2189 - val_mean_absolute_error: 0.2189\n",
      "Epoch 7/10\n",
      "981/981 [==============================] - 3s 3ms/step - loss: 0.2134 - mean_absolute_error: 0.2134 - val_loss: 0.2189 - val_mean_absolute_error: 0.2189\n",
      "Epoch 8/10\n",
      "981/981 [==============================] - 3s 3ms/step - loss: 0.2134 - mean_absolute_error: 0.2134 - val_loss: 0.2189 - val_mean_absolute_error: 0.2189\n",
      "Epoch 9/10\n",
      "981/981 [==============================] - 4s 4ms/step - loss: 0.2134 - mean_absolute_error: 0.2134 - val_loss: 0.2189 - val_mean_absolute_error: 0.2189\n",
      "Epoch 10/10\n",
      "981/981 [==============================] - 3s 3ms/step - loss: 0.2134 - mean_absolute_error: 0.2134 - val_loss: 0.2189 - val_mean_absolute_error: 0.2189\n"
     ]
    }
   ],
   "source": [
    "history = []\n",
    "best_val_callback = keras.callbacks.ModelCheckpoint(\n",
    "    filepath='/kaggle/working/checkpoint',\n",
    "    save_weights_only=False,\n",
    "    monitor='val_mean_absolute_error',\n",
    "    mode='min',\n",
    "    save_best_only=True\n",
    ")\n",
    "\n",
    "def run_train_iteration(rate):\n",
    "    print(f\"Training with rate {rate}\")\n",
    "    model.compile(\n",
    "        loss=keras.losses.MeanAbsoluteError(),\n",
    "        optimizer=keras.optimizers.RMSprop(learning_rate=rate),\n",
    "        metrics=[keras.metrics.MeanAbsoluteError()]\n",
    "    )\n",
    "    history.append(model.fit({\n",
    "        'board': train_x1,\n",
    "        'side': train_x2,\n",
    "    }, train_y, batch_size=config.BATCH_SIZE, epochs=config.NUM_EPOCHS, validation_split=0.2, callbacks=[best_val_callback]))\n",
    "\n",
    "num_iterations = 5\n",
    "\n",
    "for rate in [0.001 / 10**i for i in range(num_iterations)]:\n",
    "    run_train_iteration(rate)"
   ]
  },
  {
   "cell_type": "code",
   "execution_count": 12,
   "id": "20b679d1",
   "metadata": {
    "collapsed": false,
    "execution": {
     "iopub.execute_input": "2023-11-25T13:07:05.749349Z",
     "iopub.status.busy": "2023-11-25T13:07:05.748981Z",
     "iopub.status.idle": "2023-11-25T13:07:06.027544Z",
     "shell.execute_reply": "2023-11-25T13:07:06.026605Z"
    },
    "jupyter": {
     "outputs_hidden": false
    },
    "papermill": {
     "duration": 0.50627,
     "end_time": "2023-11-25T13:07:06.029692",
     "exception": false,
     "start_time": "2023-11-25T13:07:05.523422",
     "status": "completed"
    },
    "pycharm": {
     "is_executing": true,
     "name": "#%%\n"
    },
    "tags": []
   },
   "outputs": [
    {
     "data": {
      "text/plain": [
       "[<matplotlib.lines.Line2D at 0x7e05a098cc10>]"
      ]
     },
     "execution_count": 12,
     "metadata": {},
     "output_type": "execute_result"
    },
    {
     "data": {
      "image/png": "[encoded data removed]",
      "text/plain": [
       "<Figure size 640x480 with 1 Axes>"
      ]
     },
     "metadata": {},
     "output_type": "display_data"
    }
   ],
   "source": [
    "hist_vals = np.array([hist.history['loss'] for hist in history]).reshape((-1,))\n",
    "plt.plot(range(len(hist_vals)), hist_vals)"
   ]
  },
  {
   "cell_type": "code",
   "execution_count": 13,
   "id": "ca47d325",
   "metadata": {
    "collapsed": false,
    "execution": {
     "iopub.execute_input": "2023-11-25T13:07:06.478129Z",
     "iopub.status.busy": "2023-11-25T13:07:06.477275Z",
     "iopub.status.idle": "2023-11-25T13:07:06.483608Z",
     "shell.execute_reply": "2023-11-25T13:07:06.482766Z"
    },
    "jupyter": {
     "outputs_hidden": false
    },
    "papermill": {
     "duration": 0.232625,
     "end_time": "2023-11-25T13:07:06.485625",
     "exception": false,
     "start_time": "2023-11-25T13:07:06.253000",
     "status": "completed"
    },
    "pycharm": {
     "name": "#%%\n"
    },
    "tags": []
   },
   "outputs": [
    {
     "data": {
      "text/plain": [
       "15.174892252165954"
      ]
     },
     "execution_count": 13,
     "metadata": {},
     "output_type": "execute_result"
    }
   ],
   "source": [
    "hist_vals.min() * y_std"
   ]
  }
 ],
 "metadata": {
  "kaggle": {
   "accelerator": "gpu",
   "dataSources": [
    {
     "datasetId": 4049305,
     "sourceId": 7038257,
     "sourceType": "datasetVersion"
    }
   ],
   "dockerImageVersionId": 30588,
   "isGpuEnabled": true,
   "isInternetEnabled": true,
   "language": "python",
   "sourceType": "notebook"
  },
  "kernelspec": {
   "display_name": "Python 3",
   "language": "python",
   "name": "python3"
  },
  "language_info": {
   "codemirror_mode": {
    "name": "ipython",
    "version": 3
   },
   "file_extension": ".py",
   "mimetype": "text/x-python",
   "name": "python",
   "nbconvert_exporter": "python",
   "pygments_lexer": "ipython3",
   "version": "3.10.12"
  },
  "papermill": {
   "default_parameters": {},
   "duration": 230.656348,
   "end_time": "2023-11-25T13:07:09.900297",
   "environment_variables": {},
   "exception": null,
   "input_path": "__notebook__.ipynb",
   "output_path": "__notebook__.ipynb",
   "parameters": {},
   "start_time": "2023-11-25T13:03:19.243949",
   "version": "2.4.0"
  }
 },
 "nbformat": 4,
 "nbformat_minor": 5
}
