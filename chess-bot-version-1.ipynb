{
 "cells": [
  {
   "cell_type": "markdown",
   "id": "8a39659c",
   "metadata": {
    "papermill": {
     "duration": 0.006243,
     "end_time": "2023-11-25T13:41:27.921333",
     "exception": false,
     "start_time": "2023-11-25T13:41:27.915090",
     "status": "completed"
    },
    "pycharm": {
     "name": "#%% md\n"
    },
    "tags": []
   },
   "source": [
    "# Attempt Numero Uno"
   ]
  },
  {
   "cell_type": "code",
   "execution_count": 1,
   "id": "5151ab50",
   "metadata": {
    "execution": {
     "iopub.execute_input": "2023-11-25T13:41:27.934987Z",
     "iopub.status.busy": "2023-11-25T13:41:27.934548Z",
     "iopub.status.idle": "2023-11-25T13:41:39.585023Z",
     "shell.execute_reply": "2023-11-25T13:41:39.583967Z"
    },
    "papermill": {
     "duration": 11.660206,
     "end_time": "2023-11-25T13:41:39.587500",
     "exception": false,
     "start_time": "2023-11-25T13:41:27.927294",
     "status": "completed"
    },
    "pycharm": {
     "name": "#%%\n"
    },
    "tags": []
   },
   "outputs": [
    {
     "name": "stderr",
     "output_type": "stream",
     "text": [
      "/opt/conda/lib/python3.10/site-packages/scipy/__init__.py:146: UserWarning: A NumPy version >=1.16.5 and <1.23.0 is required for this version of SciPy (detected version 1.24.3\n",
      "  warnings.warn(f\"A NumPy version >={np_minversion} and <{np_maxversion}\"\n",
      "/tmp/ipykernel_26/13196397.py:11: DeprecationWarning: Importing display from IPython.core.display is deprecated since IPython 7.14, please import from IPython display\n",
      "  from IPython.core.display import display, HTML\n"
     ]
    }
   ],
   "source": [
    "# imports\n",
    "import os\n",
    "import numpy as np\n",
    "import pandas as pd\n",
    "import matplotlib.pyplot as plt\n",
    "\n",
    "import tensorflow as tf\n",
    "import keras\n",
    "from keras import layers\n",
    "\n",
    "from IPython.core.display import display, HTML"
   ]
  },
  {
   "cell_type": "code",
   "execution_count": 2,
   "id": "6d6f1050",
   "metadata": {
    "collapsed": false,
    "execution": {
     "iopub.execute_input": "2023-11-25T13:41:39.601157Z",
     "iopub.status.busy": "2023-11-25T13:41:39.600559Z",
     "iopub.status.idle": "2023-11-25T13:41:39.606477Z",
     "shell.execute_reply": "2023-11-25T13:41:39.605796Z"
    },
    "jupyter": {
     "outputs_hidden": false
    },
    "papermill": {
     "duration": 0.014902,
     "end_time": "2023-11-25T13:41:39.608405",
     "exception": false,
     "start_time": "2023-11-25T13:41:39.593503",
     "status": "completed"
    },
    "pycharm": {
     "name": "#%%\n"
    },
    "tags": []
   },
   "outputs": [],
   "source": [
    "class Config:\n",
    "    TRAIN_SPLIT = 0.8\n",
    "    BATCH_SIZE = 128\n",
    "    NUM_EPOCHS = 10\n",
    "config = Config()\n",
    "data_root = '/kaggle/input/chess-bot-version-1-ratings'\n",
    "model_path = '/kaggle/working/checkpoint'"
   ]
  },
  {
   "cell_type": "code",
   "execution_count": 3,
   "id": "58d22f91",
   "metadata": {
    "collapsed": false,
    "execution": {
     "iopub.execute_input": "2023-11-25T13:41:39.621428Z",
     "iopub.status.busy": "2023-11-25T13:41:39.620956Z",
     "iopub.status.idle": "2023-11-25T13:41:45.323767Z",
     "shell.execute_reply": "2023-11-25T13:41:45.322994Z"
    },
    "jupyter": {
     "outputs_hidden": false
    },
    "papermill": {
     "duration": 5.711746,
     "end_time": "2023-11-25T13:41:45.326063",
     "exception": false,
     "start_time": "2023-11-25T13:41:39.614317",
     "status": "completed"
    },
    "pycharm": {
     "name": "#%%\n"
    },
    "tags": []
   },
   "outputs": [],
   "source": [
    "boards = []\n",
    "sides = []\n",
    "ratings = []\n",
    "ratings_root = f'{data_root}/v1'\n",
    "\n",
    "for name in os.listdir(ratings_root):\n",
    "    with open(f'{ratings_root}/{name}', 'rt') as txt:\n",
    "        for ind, i in enumerate(txt.readlines()):\n",
    "            nums = i.split()\n",
    "            assert len(nums) == 65\n",
    "            boards.append([int(val) for val in nums[:64]])\n",
    "            sides.append(0 if ind % 2 == 0 else 1)\n",
    "            ratings.append(float(nums[64]))"
   ]
  },
  {
   "cell_type": "code",
   "execution_count": 4,
   "id": "2c763dfd",
   "metadata": {
    "collapsed": false,
    "execution": {
     "iopub.execute_input": "2023-11-25T13:41:45.340354Z",
     "iopub.status.busy": "2023-11-25T13:41:45.340052Z",
     "iopub.status.idle": "2023-11-25T13:41:46.629489Z",
     "shell.execute_reply": "2023-11-25T13:41:46.628685Z"
    },
    "jupyter": {
     "outputs_hidden": false
    },
    "papermill": {
     "duration": 1.299444,
     "end_time": "2023-11-25T13:41:46.631898",
     "exception": false,
     "start_time": "2023-11-25T13:41:45.332454",
     "status": "completed"
    },
    "pycharm": {
     "name": "#%%\n"
    },
    "tags": []
   },
   "outputs": [],
   "source": [
    "boards_raw = np.asarray(boards).astype('int32')\n",
    "sides_raw = np.asarray(sides).astype('int32')\n",
    "predict_raw = np.asarray(ratings).astype('int32')"
   ]
  },
  {
   "cell_type": "markdown",
   "id": "852f4405",
   "metadata": {
    "papermill": {
     "duration": 0.005679,
     "end_time": "2023-11-25T13:41:46.643894",
     "exception": false,
     "start_time": "2023-11-25T13:41:46.638215",
     "status": "completed"
    },
    "pycharm": {
     "name": "#%% md\n"
    },
    "tags": []
   },
   "source": [
    "## Define Model"
   ]
  },
  {
   "cell_type": "code",
   "execution_count": 5,
   "id": "dfb68acb",
   "metadata": {
    "collapsed": false,
    "execution": {
     "iopub.execute_input": "2023-11-25T13:41:46.656681Z",
     "iopub.status.busy": "2023-11-25T13:41:46.656374Z",
     "iopub.status.idle": "2023-11-25T13:41:49.589206Z",
     "shell.execute_reply": "2023-11-25T13:41:49.588402Z"
    },
    "jupyter": {
     "outputs_hidden": false
    },
    "papermill": {
     "duration": 2.941787,
     "end_time": "2023-11-25T13:41:49.591456",
     "exception": false,
     "start_time": "2023-11-25T13:41:46.649669",
     "status": "completed"
    },
    "pycharm": {
     "name": "#%%\n"
    },
    "tags": []
   },
   "outputs": [],
   "source": [
    "board_input = keras.Input((64,13), name='board')\n",
    "side_input = keras.Input((1,), name='side')\n",
    "flattened_input = layers.Flatten()(board_input)\n",
    "model_input = layers.concatenate((flattened_input, side_input))\n",
    "x = layers.Dense(512)(model_input)\n",
    "x = layers.Dense(256)(x)\n",
    "x = layers.Dense(256)(x)\n",
    "x = layers.Dense(256)(x)\n",
    "out = layers.Dense(1)(x)"
   ]
  },
  {
   "cell_type": "code",
   "execution_count": 6,
   "id": "d895a825",
   "metadata": {
    "collapsed": false,
    "execution": {
     "iopub.execute_input": "2023-11-25T13:41:49.604839Z",
     "iopub.status.busy": "2023-11-25T13:41:49.604531Z",
     "iopub.status.idle": "2023-11-25T13:41:49.614635Z",
     "shell.execute_reply": "2023-11-25T13:41:49.613970Z"
    },
    "jupyter": {
     "outputs_hidden": false
    },
    "papermill": {
     "duration": 0.018831,
     "end_time": "2023-11-25T13:41:49.616473",
     "exception": false,
     "start_time": "2023-11-25T13:41:49.597642",
     "status": "completed"
    },
    "pycharm": {
     "name": "#%%\n"
    },
    "tags": []
   },
   "outputs": [],
   "source": [
    "model = keras.Model(inputs=(board_input, side_input), outputs=out, name='chess-test-1')"
   ]
  },
  {
   "cell_type": "code",
   "execution_count": 7,
   "id": "1e482fb8",
   "metadata": {
    "collapsed": false,
    "execution": {
     "iopub.execute_input": "2023-11-25T13:41:49.629226Z",
     "iopub.status.busy": "2023-11-25T13:41:49.628968Z",
     "iopub.status.idle": "2023-11-25T13:41:49.656100Z",
     "shell.execute_reply": "2023-11-25T13:41:49.655257Z"
    },
    "jupyter": {
     "outputs_hidden": false
    },
    "papermill": {
     "duration": 0.043882,
     "end_time": "2023-11-25T13:41:49.666268",
     "exception": false,
     "start_time": "2023-11-25T13:41:49.622386",
     "status": "completed"
    },
    "pycharm": {
     "name": "#%%\n"
    },
    "tags": []
   },
   "outputs": [
    {
     "name": "stdout",
     "output_type": "stream",
     "text": [
      "Model: \"chess-test-1\"\n",
      "__________________________________________________________________________________________________\n",
      " Layer (type)                Output Shape                 Param #   Connected to                  \n",
      "==================================================================================================\n",
      " board (InputLayer)          [(None, 64, 13)]             0         []                            \n",
      "                                                                                                  \n",
      " flatten (Flatten)           (None, 832)                  0         ['board[0][0]']               \n",
      "                                                                                                  \n",
      " side (InputLayer)           [(None, 1)]                  0         []                            \n",
      "                                                                                                  \n",
      " concatenate (Concatenate)   (None, 833)                  0         ['flatten[0][0]',             \n",
      "                                                                     'side[0][0]']                \n",
      "                                                                                                  \n",
      " dense (Dense)               (None, 512)                  427008    ['concatenate[0][0]']         \n",
      "                                                                                                  \n",
      " dense_1 (Dense)             (None, 256)                  131328    ['dense[0][0]']               \n",
      "                                                                                                  \n",
      " dense_2 (Dense)             (None, 256)                  65792     ['dense_1[0][0]']             \n",
      "                                                                                                  \n",
      " dense_3 (Dense)             (None, 256)                  65792     ['dense_2[0][0]']             \n",
      "                                                                                                  \n",
      " dense_4 (Dense)             (None, 1)                    257       ['dense_3[0][0]']             \n",
      "                                                                                                  \n",
      "==================================================================================================\n",
      "Total params: 690177 (2.63 MB)\n",
      "Trainable params: 690177 (2.63 MB)\n",
      "Non-trainable params: 0 (0.00 Byte)\n",
      "__________________________________________________________________________________________________\n"
     ]
    }
   ],
   "source": [
    "model.summary()"
   ]
  },
  {
   "cell_type": "code",
   "execution_count": 8,
   "id": "217f083b",
   "metadata": {
    "collapsed": false,
    "execution": {
     "iopub.execute_input": "2023-11-25T13:41:49.683134Z",
     "iopub.status.busy": "2023-11-25T13:41:49.682844Z",
     "iopub.status.idle": "2023-11-25T13:41:49.878200Z",
     "shell.execute_reply": "2023-11-25T13:41:49.877289Z"
    },
    "jupyter": {
     "outputs_hidden": false
    },
    "papermill": {
     "duration": 0.20623,
     "end_time": "2023-11-25T13:41:49.880409",
     "exception": false,
     "start_time": "2023-11-25T13:41:49.674179",
     "status": "completed"
    },
    "pycharm": {
     "name": "#%%\n"
    },
    "tags": []
   },
   "outputs": [
    {
     "data": {
      "image/png": "[encoded data removed]",
      "text/plain": [
       "<IPython.core.display.Image object>"
      ]
     },
     "execution_count": 8,
     "metadata": {},
     "output_type": "execute_result"
    }
   ],
   "source": [
    "keras.utils.plot_model(model)"
   ]
  },
  {
   "cell_type": "markdown",
   "id": "87736c2f",
   "metadata": {
    "papermill": {
     "duration": 0.008334,
     "end_time": "2023-11-25T13:41:49.897546",
     "exception": false,
     "start_time": "2023-11-25T13:41:49.889212",
     "status": "completed"
    },
    "pycharm": {
     "name": "#%% md\n"
    },
    "tags": []
   },
   "source": [
    "## Train Model"
   ]
  },
  {
   "cell_type": "code",
   "execution_count": 9,
   "id": "4d46354b",
   "metadata": {
    "collapsed": false,
    "execution": {
     "iopub.execute_input": "2023-11-25T13:41:49.916032Z",
     "iopub.status.busy": "2023-11-25T13:41:49.915703Z",
     "iopub.status.idle": "2023-11-25T13:41:50.164899Z",
     "shell.execute_reply": "2023-11-25T13:41:50.163907Z"
    },
    "jupyter": {
     "outputs_hidden": false
    },
    "papermill": {
     "duration": 0.261003,
     "end_time": "2023-11-25T13:41:50.167215",
     "exception": false,
     "start_time": "2023-11-25T13:41:49.906212",
     "status": "completed"
    },
    "pycharm": {
     "name": "#%%\n"
    },
    "tags": []
   },
   "outputs": [],
   "source": [
    "x1_data, x2_data, y_data = boards_raw[abs(predict_raw) < 8000].copy(), sides_raw[abs(predict_raw) < 8000].copy(), predict_raw[abs(predict_raw) < 8000].copy()\n",
    "index = np.asarray(range(len(x2_data)))\n",
    "np.random.shuffle(index)\n",
    "x1_data = x1_data[index]\n",
    "x2_data = x2_data[index]\n",
    "y_data = y_data[index]\n",
    "\n",
    "y_mean = y_data.mean()\n",
    "y_std = y_data.std()\n",
    "y_data = (y_data - y_mean) / y_std\n",
    "\n",
    "x1_data = tf.one_hot(x1_data, depth=13, axis=-1)"
   ]
  },
  {
   "cell_type": "code",
   "execution_count": 10,
   "id": "e38a661e",
   "metadata": {
    "collapsed": false,
    "execution": {
     "iopub.execute_input": "2023-11-25T13:41:50.185954Z",
     "iopub.status.busy": "2023-11-25T13:41:50.185643Z",
     "iopub.status.idle": "2023-11-25T13:41:50.196217Z",
     "shell.execute_reply": "2023-11-25T13:41:50.195477Z"
    },
    "jupyter": {
     "outputs_hidden": false
    },
    "papermill": {
     "duration": 0.022394,
     "end_time": "2023-11-25T13:41:50.198498",
     "exception": false,
     "start_time": "2023-11-25T13:41:50.176104",
     "status": "completed"
    },
    "pycharm": {
     "name": "#%%\n"
    },
    "tags": []
   },
   "outputs": [],
   "source": [
    "split_val = int(len(x1_data) * config.TRAIN_SPLIT)\n",
    "(train_x1, train_x2, train_y), (test_x1, test_x2, test_y) = (x1_data[:split_val], x2_data[:split_val], y_data[:split_val]), (x1_data[split_val:], x2_data[split_val:], y_data[split_val:])"
   ]
  },
  {
   "cell_type": "code",
   "execution_count": 11,
   "id": "4f149d03",
   "metadata": {
    "collapsed": false,
    "execution": {
     "iopub.execute_input": "2023-11-25T13:41:50.217274Z",
     "iopub.status.busy": "2023-11-25T13:41:50.216989Z",
     "iopub.status.idle": "2023-11-25T13:43:42.346822Z",
     "shell.execute_reply": "2023-11-25T13:43:42.345979Z"
    },
    "jupyter": {
     "outputs_hidden": false
    },
    "papermill": {
     "duration": 112.141648,
     "end_time": "2023-11-25T13:43:42.349159",
     "exception": false,
     "start_time": "2023-11-25T13:41:50.207511",
     "status": "completed"
    },
    "pycharm": {
     "is_executing": true,
     "name": "#%%\n"
    },
    "tags": []
   },
   "outputs": [
    {
     "name": "stdout",
     "output_type": "stream",
     "text": [
      "Training with rate 0.001\n",
      "Epoch 1/10\n",
      "981/981 [==============================] - 9s 4ms/step - loss: 0.8002 - mean_absolute_error: 0.5731 - val_loss: 0.2576 - val_mean_absolute_error: 0.4116\n",
      "Epoch 2/10\n",
      "981/981 [==============================] - 4s 4ms/step - loss: 0.1945 - mean_absolute_error: 0.3392 - val_loss: 0.1300 - val_mean_absolute_error: 0.2609\n",
      "Epoch 3/10\n",
      "981/981 [==============================] - 3s 3ms/step - loss: 0.1624 - mean_absolute_error: 0.3038 - val_loss: 0.1493 - val_mean_absolute_error: 0.2863\n",
      "Epoch 4/10\n",
      "981/981 [==============================] - 4s 4ms/step - loss: 0.1503 - mean_absolute_error: 0.2896 - val_loss: 0.1223 - val_mean_absolute_error: 0.2536\n",
      "Epoch 5/10\n",
      "981/981 [==============================] - 3s 3ms/step - loss: 0.1447 - mean_absolute_error: 0.2822 - val_loss: 0.1802 - val_mean_absolute_error: 0.3360\n",
      "Epoch 6/10\n",
      "981/981 [==============================] - 3s 3ms/step - loss: 0.1403 - mean_absolute_error: 0.2762 - val_loss: 0.1242 - val_mean_absolute_error: 0.2559\n",
      "Epoch 7/10\n",
      "981/981 [==============================] - 3s 3ms/step - loss: 0.1373 - mean_absolute_error: 0.2722 - val_loss: 0.1575 - val_mean_absolute_error: 0.2965\n",
      "Epoch 8/10\n",
      "981/981 [==============================] - 3s 3ms/step - loss: 0.1353 - mean_absolute_error: 0.2693 - val_loss: 0.1530 - val_mean_absolute_error: 0.2906\n",
      "Epoch 9/10\n",
      "981/981 [==============================] - 3s 3ms/step - loss: 0.1336 - mean_absolute_error: 0.2672 - val_loss: 0.1265 - val_mean_absolute_error: 0.2574\n",
      "Epoch 10/10\n",
      "981/981 [==============================] - 3s 3ms/step - loss: 0.1321 - mean_absolute_error: 0.2654 - val_loss: 0.1379 - val_mean_absolute_error: 0.2703\n",
      "Training with rate 0.0001\n",
      "Epoch 1/10\n",
      "981/981 [==============================] - 6s 5ms/step - loss: 0.1161 - mean_absolute_error: 0.2456 - val_loss: 0.1166 - val_mean_absolute_error: 0.2454\n",
      "Epoch 2/10\n",
      "981/981 [==============================] - 3s 3ms/step - loss: 0.1152 - mean_absolute_error: 0.2449 - val_loss: 0.1171 - val_mean_absolute_error: 0.2457\n",
      "Epoch 3/10\n",
      "981/981 [==============================] - 3s 3ms/step - loss: 0.1150 - mean_absolute_error: 0.2445 - val_loss: 0.1165 - val_mean_absolute_error: 0.2459\n",
      "Epoch 4/10\n",
      "981/981 [==============================] - 4s 4ms/step - loss: 0.1150 - mean_absolute_error: 0.2446 - val_loss: 0.1162 - val_mean_absolute_error: 0.2453\n",
      "Epoch 5/10\n",
      "981/981 [==============================] - 3s 3ms/step - loss: 0.1150 - mean_absolute_error: 0.2445 - val_loss: 0.1174 - val_mean_absolute_error: 0.2459\n",
      "Epoch 6/10\n",
      "981/981 [==============================] - 3s 3ms/step - loss: 0.1149 - mean_absolute_error: 0.2440 - val_loss: 0.1167 - val_mean_absolute_error: 0.2469\n",
      "Epoch 7/10\n",
      "981/981 [==============================] - 4s 4ms/step - loss: 0.1150 - mean_absolute_error: 0.2447 - val_loss: 0.1162 - val_mean_absolute_error: 0.2452\n",
      "Epoch 8/10\n",
      "981/981 [==============================] - 3s 3ms/step - loss: 0.1150 - mean_absolute_error: 0.2445 - val_loss: 0.1169 - val_mean_absolute_error: 0.2464\n",
      "Epoch 9/10\n",
      "981/981 [==============================] - 3s 3ms/step - loss: 0.1150 - mean_absolute_error: 0.2444 - val_loss: 0.1164 - val_mean_absolute_error: 0.2458\n",
      "Epoch 10/10\n",
      "981/981 [==============================] - 3s 3ms/step - loss: 0.1150 - mean_absolute_error: 0.2444 - val_loss: 0.1164 - val_mean_absolute_error: 0.2452\n",
      "Training with rate 1e-05\n",
      "Epoch 1/10\n",
      "981/981 [==============================] - 5s 4ms/step - loss: 0.1140 - mean_absolute_error: 0.2435 - val_loss: 0.1161 - val_mean_absolute_error: 0.2451\n",
      "Epoch 2/10\n",
      "981/981 [==============================] - 4s 4ms/step - loss: 0.1140 - mean_absolute_error: 0.2434 - val_loss: 0.1159 - val_mean_absolute_error: 0.2448\n",
      "Epoch 3/10\n",
      "981/981 [==============================] - 3s 3ms/step - loss: 0.1140 - mean_absolute_error: 0.2434 - val_loss: 0.1160 - val_mean_absolute_error: 0.2449\n",
      "Epoch 4/10\n",
      "981/981 [==============================] - 4s 4ms/step - loss: 0.1140 - mean_absolute_error: 0.2434 - val_loss: 0.1159 - val_mean_absolute_error: 0.2448\n",
      "Epoch 5/10\n",
      "981/981 [==============================] - 4s 4ms/step - loss: 0.1140 - mean_absolute_error: 0.2434 - val_loss: 0.1159 - val_mean_absolute_error: 0.2447\n",
      "Epoch 6/10\n",
      "981/981 [==============================] - 3s 3ms/step - loss: 0.1139 - mean_absolute_error: 0.2434 - val_loss: 0.1160 - val_mean_absolute_error: 0.2449\n",
      "Epoch 7/10\n",
      "981/981 [==============================] - 3s 3ms/step - loss: 0.1139 - mean_absolute_error: 0.2433 - val_loss: 0.1160 - val_mean_absolute_error: 0.2448\n",
      "Epoch 8/10\n",
      "981/981 [==============================] - 4s 4ms/step - loss: 0.1139 - mean_absolute_error: 0.2433 - val_loss: 0.1159 - val_mean_absolute_error: 0.2446\n",
      "Epoch 9/10\n",
      "981/981 [==============================] - 3s 3ms/step - loss: 0.1140 - mean_absolute_error: 0.2432 - val_loss: 0.1160 - val_mean_absolute_error: 0.2448\n",
      "Epoch 10/10\n",
      "981/981 [==============================] - 3s 3ms/step - loss: 0.1139 - mean_absolute_error: 0.2434 - val_loss: 0.1159 - val_mean_absolute_error: 0.2447\n"
     ]
    }
   ],
   "source": [
    "history = []\n",
    "best_val_callback = keras.callbacks.ModelCheckpoint(\n",
    "    filepath=model_path,\n",
    "    save_weights_only=False,\n",
    "    monitor='val_mean_absolute_error',\n",
    "    mode='min',\n",
    "    save_best_only=True\n",
    ")\n",
    "\n",
    "def run_train_iteration(rate):\n",
    "    print(f\"Training with rate {rate}\")\n",
    "    model.compile(\n",
    "        loss=keras.losses.MeanSquaredError(),\n",
    "        optimizer=keras.optimizers.RMSprop(learning_rate=rate),\n",
    "        metrics=[keras.metrics.MeanAbsoluteError()]\n",
    "    )\n",
    "    history.append(model.fit({\n",
    "        'board': train_x1,\n",
    "        'side': train_x2,\n",
    "    }, train_y, batch_size=config.BATCH_SIZE, epochs=config.NUM_EPOCHS, validation_split=0.2, callbacks=[best_val_callback]))\n",
    "\n",
    "num_iterations = 3\n",
    "\n",
    "for rate in [0.001 / 10**i for i in range(num_iterations)]:\n",
    "    run_train_iteration(rate)"
   ]
  },
  {
   "cell_type": "code",
   "execution_count": 12,
   "id": "a165a51e",
   "metadata": {
    "collapsed": false,
    "execution": {
     "iopub.execute_input": "2023-11-25T13:43:42.627942Z",
     "iopub.status.busy": "2023-11-25T13:43:42.627298Z",
     "iopub.status.idle": "2023-11-25T13:43:42.923124Z",
     "shell.execute_reply": "2023-11-25T13:43:42.921972Z"
    },
    "jupyter": {
     "outputs_hidden": false
    },
    "papermill": {
     "duration": 0.438846,
     "end_time": "2023-11-25T13:43:42.926445",
     "exception": false,
     "start_time": "2023-11-25T13:43:42.487599",
     "status": "completed"
    },
    "pycharm": {
     "name": "#%%\n"
    },
    "tags": []
   },
   "outputs": [
    {
     "data": {
      "text/plain": [
       "[<matplotlib.lines.Line2D at 0x7ca88cb037f0>]"
      ]
     },
     "execution_count": 12,
     "metadata": {},
     "output_type": "execute_result"
    },
    {
     "data": {
      "image/png": "[encoded data removed]",
      "text/plain": [
       "<Figure size 640x480 with 1 Axes>"
      ]
     },
     "metadata": {},
     "output_type": "display_data"
    }
   ],
   "source": [
    "hist_loss = np.array([hist.history['loss'] for hist in history]).reshape((-1,))\n",
    "hist_vals = np.array([hist.history['val_loss'] for hist in history]).reshape((-1,))\n",
    "plt.plot(range(len(hist_loss)), hist_loss)\n",
    "plt.plot(range(len(hist_vals)), hist_vals)"
   ]
  },
  {
   "cell_type": "code",
   "execution_count": 13,
   "id": "ddf325a0",
   "metadata": {
    "collapsed": false,
    "execution": {
     "iopub.execute_input": "2023-11-25T13:43:43.225558Z",
     "iopub.status.busy": "2023-11-25T13:43:43.224638Z",
     "iopub.status.idle": "2023-11-25T13:43:43.231489Z",
     "shell.execute_reply": "2023-11-25T13:43:43.230493Z"
    },
    "jupyter": {
     "outputs_hidden": false
    },
    "papermill": {
     "duration": 0.14956,
     "end_time": "2023-11-25T13:43:43.233690",
     "exception": false,
     "start_time": "2023-11-25T13:43:43.084130",
     "status": "completed"
    },
    "pycharm": {
     "name": "#%%\n"
    },
    "tags": []
   },
   "outputs": [
    {
     "data": {
      "text/plain": [
       "8.241708129671704"
      ]
     },
     "execution_count": 13,
     "metadata": {},
     "output_type": "execute_result"
    }
   ],
   "source": [
    "hist_vals.min() * y_std"
   ]
  },
  {
   "cell_type": "code",
   "execution_count": 14,
   "id": "6353eb2b",
   "metadata": {
    "execution": {
     "iopub.execute_input": "2023-11-25T13:43:43.513174Z",
     "iopub.status.busy": "2023-11-25T13:43:43.512797Z",
     "iopub.status.idle": "2023-11-25T13:43:54.625810Z",
     "shell.execute_reply": "2023-11-25T13:43:54.624903Z"
    },
    "papermill": {
     "duration": 11.254773,
     "end_time": "2023-11-25T13:43:54.627859",
     "exception": false,
     "start_time": "2023-11-25T13:43:43.373086",
     "status": "completed"
    },
    "tags": []
   },
   "outputs": [
    {
     "name": "stdout",
     "output_type": "stream",
     "text": [
      "4906/4906 [==============================] - 11s 2ms/step - loss: 0.1143 - mean_absolute_error: 0.2435\n"
     ]
    },
    {
     "data": {
      "text/plain": [
       "[0.11428064107894897, 0.24345894157886505]"
      ]
     },
     "execution_count": 14,
     "metadata": {},
     "output_type": "execute_result"
    }
   ],
   "source": [
    "model.evaluate({\n",
    "        'board': train_x1,\n",
    "        'side': train_x2,\n",
    "    }, train_y)"
   ]
  }
 ],
 "metadata": {
  "kaggle": {
   "accelerator": "gpu",
   "dataSources": [
    {
     "datasetId": 4049305,
     "sourceId": 7038257,
     "sourceType": "datasetVersion"
    }
   ],
   "dockerImageVersionId": 30588,
   "isGpuEnabled": true,
   "isInternetEnabled": true,
   "language": "python",
   "sourceType": "notebook"
  },
  "kernelspec": {
   "display_name": "Python 3",
   "language": "python",
   "name": "python3"
  },
  "language_info": {
   "codemirror_mode": {
    "name": "ipython",
    "version": 3
   },
   "file_extension": ".py",
   "mimetype": "text/x-python",
   "name": "python",
   "nbconvert_exporter": "python",
   "pygments_lexer": "ipython3",
   "version": "3.10.12"
  },
  "papermill": {
   "default_parameters": {},
   "duration": 153.542536,
   "end_time": "2023-11-25T13:43:58.181782",
   "environment_variables": {},
   "exception": null,
   "input_path": "__notebook__.ipynb",
   "output_path": "__notebook__.ipynb",
   "parameters": {},
   "start_time": "2023-11-25T13:41:24.639246",
   "version": "2.4.0"
  }
 },
 "nbformat": 4,
 "nbformat_minor": 5
}
